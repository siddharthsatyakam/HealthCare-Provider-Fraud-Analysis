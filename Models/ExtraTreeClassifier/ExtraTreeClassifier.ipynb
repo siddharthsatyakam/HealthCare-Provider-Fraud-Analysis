{
  "nbformat": 4,
  "nbformat_minor": 0,
  "metadata": {
    "colab": {
      "name": "ExtraTreeClassifier.ipynb",
      "provenance": [],
      "collapsed_sections": [],
      "machine_shape": "hm"
    },
    "kernelspec": {
      "name": "python3",
      "display_name": "Python 3"
    }
  },
  "cells": [
    {
      "cell_type": "code",
      "metadata": {
        "id": "c-2g3AmWi1n0",
        "colab_type": "code",
        "colab": {
          "base_uri": "https://localhost:8080/",
          "height": 190
        },
        "outputId": "71be7eb2-1151-4f1f-9b10-735e74eb9ab9"
      },
      "source": [
        "import pandas as pd\n",
        "import numpy as np\n",
        "import math as mt\n",
        "import sklearn as sk1\n",
        "import datetime as dt\n",
        "import matplotlib.pyplot as plt\n",
        "import math \n",
        "import seaborn as plt1\n",
        "from sklearn.model_selection import train_test_split\n",
        "import pickle\n",
        "\n",
        "!pip install missingpy\n",
        "import missingpy as imput_helper\n"
      ],
      "execution_count": 1,
      "outputs": [
        {
          "output_type": "stream",
          "text": [
            "/usr/local/lib/python3.6/dist-packages/statsmodels/tools/_testing.py:19: FutureWarning: pandas.util.testing is deprecated. Use the functions in the public API at pandas.testing instead.\n",
            "  import pandas.util.testing as tm\n"
          ],
          "name": "stderr"
        },
        {
          "output_type": "stream",
          "text": [
            "Collecting missingpy\n",
            "\u001b[?25l  Downloading https://files.pythonhosted.org/packages/b5/be/998d04d27054b58f0974b5f09f8457778a0a72d4355e0b7ae877b6cfb850/missingpy-0.2.0-py3-none-any.whl (49kB)\n",
            "\r\u001b[K     |██████▊                         | 10kB 20.9MB/s eta 0:00:01\r\u001b[K     |█████████████▍                  | 20kB 2.1MB/s eta 0:00:01\r\u001b[K     |████████████████████            | 30kB 2.7MB/s eta 0:00:01\r\u001b[K     |██████████████████████████▊     | 40kB 2.0MB/s eta 0:00:01\r\u001b[K     |████████████████████████████████| 51kB 1.9MB/s \n",
            "\u001b[?25hInstalling collected packages: missingpy\n",
            "Successfully installed missingpy-0.2.0\n"
          ],
          "name": "stdout"
        },
        {
          "output_type": "stream",
          "text": [
            "/usr/local/lib/python3.6/dist-packages/sklearn/utils/deprecation.py:144: FutureWarning: The sklearn.neighbors.base module is  deprecated in version 0.22 and will be removed in version 0.24. The corresponding classes / functions should instead be imported from sklearn.neighbors. Anything that cannot be imported from sklearn.neighbors is now part of the private API.\n",
            "  warnings.warn(message, FutureWarning)\n"
          ],
          "name": "stderr"
        }
      ]
    },
    {
      "cell_type": "code",
      "metadata": {
        "id": "vVsPv1-8i5w3",
        "colab_type": "code",
        "colab": {}
      },
      "source": [
        "work_dat_notDead_large = pd.read_csv(\"work_dat_notDead_large-Final model specific.csv\")\n",
        "\n",
        "\n",
        "work_dat_notDead_large_backup = work_dat_notDead_large.copy()\n",
        "\n",
        "work_dat_notDead_large = work_dat_notDead_large.loc[work_dat_notDead_large['InscClaimAmtReimbursed']>5000,:].copy()\n"
      ],
      "execution_count": 0,
      "outputs": []
    },
    {
      "cell_type": "code",
      "metadata": {
        "id": "GPQqrzg_jBck",
        "colab_type": "code",
        "colab": {}
      },
      "source": [
        "# Applying models\n",
        "from sklearn.experimental import enable_iterative_imputer\n",
        "from sklearn.linear_model import BayesianRidge\n",
        "import lightgbm as lgbm\n",
        "from sklearn.preprocessing import RobustScaler  # Here we are applying the RobustScaler to minimize variance and outliers in the data and make them more standard\n",
        "from sklearn import linear_model\n",
        "from sklearn.model_selection import GridSearchCV\n",
        "from sklearn.preprocessing import StandardScaler\n",
        "\n",
        "#work_dat_notDead_large = work_dat_notDead_large.drop(columns=['BeneID'])\n",
        "\n",
        "scaler = StandardScaler()\n",
        "ClassFraud_y = work_dat_notDead_large['PotentialFraud'].copy()\n",
        "ClassFraud_x = work_dat_notDead_large[work_dat_notDead_large.columns.difference(['PotentialFraud'])]\n",
        "\n",
        "scaler.fit(ClassFraud_x)\n",
        "\n",
        "# save the scaler\n",
        "pickle.dump(scaler, open('Random_Forest_scaler.pkl', 'wb'))\n",
        "\n",
        "ClassFraud_x_Scaled = scaler.transform(ClassFraud_x)\n",
        "\n",
        "X_train, X_val, y_train, y_val = train_test_split(ClassFraud_x_Scaled, ClassFraud_y, test_size=0.33)\n"
      ],
      "execution_count": 0,
      "outputs": []
    },
    {
      "cell_type": "code",
      "metadata": {
        "id": "UVeULrbhjGJ9",
        "colab_type": "code",
        "colab": {
          "base_uri": "https://localhost:8080/",
          "height": 153
        },
        "outputId": "298a86ef-b724-4051-fe5f-4ac498760ed2"
      },
      "source": [
        "from sklearn.ensemble import ExtraTreesClassifier \n",
        "ext_rfc = ExtraTreesClassifier(max_features='auto',n_jobs=-1,n_estimators=50) \n",
        "ext_rfc.fit(X_train, y_train)\n",
        "#print CV_rfc.best_params_\n"
      ],
      "execution_count": 6,
      "outputs": [
        {
          "output_type": "execute_result",
          "data": {
            "text/plain": [
              "ExtraTreesClassifier(bootstrap=False, ccp_alpha=0.0, class_weight=None,\n",
              "                     criterion='gini', max_depth=None, max_features='auto',\n",
              "                     max_leaf_nodes=None, max_samples=None,\n",
              "                     min_impurity_decrease=0.0, min_impurity_split=None,\n",
              "                     min_samples_leaf=1, min_samples_split=2,\n",
              "                     min_weight_fraction_leaf=0.0, n_estimators=50, n_jobs=-1,\n",
              "                     oob_score=False, random_state=None, verbose=0,\n",
              "                     warm_start=False)"
            ]
          },
          "metadata": {
            "tags": []
          },
          "execution_count": 6
        }
      ]
    },
    {
      "cell_type": "code",
      "metadata": {
        "id": "p_PA-Tc8lEbV",
        "colab_type": "code",
        "colab": {}
      },
      "source": [
        "# save the scaler\n",
        "pickle.dump(ext_rfc, open('Extra_random_Forest_model.pkl', 'wb'))\n",
        "\n",
        "loaded_model_Ext = pickle.load(open(\"Extra_random_Forest_model.pkl\", 'rb'))\n",
        "\n",
        "y_pred = loaded_model_Ext.predict(X_val)"
      ],
      "execution_count": 0,
      "outputs": []
    },
    {
      "cell_type": "code",
      "metadata": {
        "id": "looL9D5NlXTG",
        "colab_type": "code",
        "colab": {
          "base_uri": "https://localhost:8080/",
          "height": 34
        },
        "outputId": "83e57274-642b-4a85-b1f7-73c9e058dd66"
      },
      "source": [
        "# Extra Random Forest\n",
        "from sklearn.metrics import f1_score\n",
        "\n",
        "f1_score(y_val,y_pred)"
      ],
      "execution_count": 9,
      "outputs": [
        {
          "output_type": "execute_result",
          "data": {
            "text/plain": [
              "0.9992191945793576"
            ]
          },
          "metadata": {
            "tags": []
          },
          "execution_count": 9
        }
      ]
    }
  ]
}