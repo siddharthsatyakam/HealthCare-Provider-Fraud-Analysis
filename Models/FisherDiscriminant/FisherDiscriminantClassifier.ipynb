{
  "nbformat": 4,
  "nbformat_minor": 0,
  "metadata": {
    "colab": {
      "name": "FisherDiscriminantClassifier.ipynb",
      "provenance": [],
      "collapsed_sections": []
    },
    "kernelspec": {
      "name": "python3",
      "display_name": "Python 3"
    }
  },
  "cells": [
    {
      "cell_type": "code",
      "metadata": {
        "id": "jQuCOnFn0AVG",
        "colab_type": "code",
        "outputId": "f27b8e33-3410-478d-d246-10b86e3fee3c",
        "colab": {
          "base_uri": "https://localhost:8080/",
          "height": 34
        }
      },
      "source": [
        "import pandas as pd\n",
        "import numpy as np\n",
        "import math as mt\n",
        "import sklearn as sk1\n",
        "import datetime as dt\n",
        "import matplotlib.pyplot as plt\n",
        "import math \n",
        "import seaborn as plt1\n",
        "from sklearn.model_selection import train_test_split\n",
        "import pickle\n",
        "\n",
        "!pip install missingpy\n",
        "import missingpy as imput_helper\n"
      ],
      "execution_count": 0,
      "outputs": [
        {
          "output_type": "stream",
          "text": [
            "Requirement already satisfied: missingpy in /usr/local/lib/python3.6/dist-packages (0.2.0)\n"
          ],
          "name": "stdout"
        }
      ]
    },
    {
      "cell_type": "code",
      "metadata": {
        "id": "cOU4htCg0HTW",
        "colab_type": "code",
        "colab": {}
      },
      "source": [
        "work_dat_notDead_large = pd.read_csv(\"work_dat_notDead_large-Final model specific.csv\")\n",
        "\n",
        "\n",
        "work_dat_notDead_large_backup = work_dat_notDead_large.copy()\n",
        "\n",
        "work_dat_notDead_large = work_dat_notDead_large.loc[work_dat_notDead_large['InscClaimAmtReimbursed']>20000,:].copy()\n"
      ],
      "execution_count": 0,
      "outputs": []
    },
    {
      "cell_type": "code",
      "metadata": {
        "id": "j7aGbdw00kJ2",
        "colab_type": "code",
        "colab": {}
      },
      "source": [
        "# Applying models\n",
        "from sklearn.experimental import enable_iterative_imputer\n",
        "from sklearn.linear_model import BayesianRidge\n",
        "import lightgbm as lgbm\n",
        "from sklearn.preprocessing import RobustScaler  # Here we are applying the RobustScaler to minimize variance and outliers in the data and make them more standard\n",
        "from sklearn import linear_model\n",
        "from sklearn.model_selection import GridSearchCV\n",
        "from sklearn.preprocessing import StandardScaler\n",
        "\n",
        "#work_dat_notDead_large = work_dat_notDead_large.drop(columns=['BeneID'])\n",
        "\n",
        "scaler = StandardScaler()\n",
        "ClassFraud_y = work_dat_notDead_large['PotentialFraud'].copy()\n",
        "ClassFraud_x = work_dat_notDead_large[work_dat_notDead_large.columns.difference(['PotentialFraud'])]\n",
        "\n",
        "scaler.fit(ClassFraud_x)\n",
        "\n",
        "# save the scaler\n",
        "pickle.dump(scaler, open('fisher_scaler.pkl', 'wb'))\n",
        "\n",
        "ClassFraud_x_Scaled = scaler.transform(ClassFraud_x)\n",
        "\n",
        "X_train, X_val, y_train, y_val = train_test_split(ClassFraud_x_Scaled, ClassFraud_y, test_size=0.33)\n"
      ],
      "execution_count": 0,
      "outputs": []
    },
    {
      "cell_type": "code",
      "metadata": {
        "id": "Dai1oDpk0ne1",
        "colab_type": "code",
        "outputId": "7d908a6b-14bd-4876-a573-1bc8038cfc1b",
        "colab": {
          "base_uri": "https://localhost:8080/",
          "height": 187
        }
      },
      "source": [
        "from sklearn.discriminant_analysis import LinearDiscriminantAnalysis\n",
        "fisher = LinearDiscriminantAnalysis() \n",
        "\n",
        "param_grid = { \n",
        "    'solver' : ['svd','Isqr']\n",
        "}\n",
        "\n",
        "CV_rfc = GridSearchCV(estimator=fisher, param_grid=param_grid, cv= 3, scoring='roc_auc', n_jobs=-1)\n",
        "CV_rfc.fit(X_train, y_train)\n",
        "#print CV_rfc.best_params_\n"
      ],
      "execution_count": 0,
      "outputs": [
        {
          "output_type": "execute_result",
          "data": {
            "text/plain": [
              "GridSearchCV(cv=3, error_score=nan,\n",
              "             estimator=LinearDiscriminantAnalysis(n_components=None,\n",
              "                                                  priors=None, shrinkage=None,\n",
              "                                                  solver='svd',\n",
              "                                                  store_covariance=False,\n",
              "                                                  tol=0.0001),\n",
              "             iid='deprecated', n_jobs=-1,\n",
              "             param_grid={'solver': ['svd', 'Isqr']}, pre_dispatch='2*n_jobs',\n",
              "             refit=True, return_train_score=False, scoring='roc_auc',\n",
              "             verbose=0)"
            ]
          },
          "metadata": {
            "tags": []
          },
          "execution_count": 6
        }
      ]
    },
    {
      "cell_type": "code",
      "metadata": {
        "id": "J1tXffc512p1",
        "colab_type": "code",
        "colab": {}
      },
      "source": [
        "# save the model\n",
        "pickle.dump(CV_rfc, open('fisher_model.pkl', 'wb'))\n",
        "\n",
        "loaded_model_FD = pickle.load(open(\"fisher_model.pkl\", 'rb'))\n",
        "\n",
        "y_pred = loaded_model_FD.predict(X_val)"
      ],
      "execution_count": 0,
      "outputs": []
    },
    {
      "cell_type": "code",
      "metadata": {
        "id": "1mMxIAHm2JwY",
        "colab_type": "code",
        "outputId": "51d1fac0-cf68-40b2-c3af-8678f7cb385f",
        "colab": {
          "base_uri": "https://localhost:8080/",
          "height": 34
        }
      },
      "source": [
        "# Fisher discriminant Analysis\n",
        "from sklearn.metrics import f1_score\n",
        "\n",
        "f1_score(y_val,y_pred)"
      ],
      "execution_count": 0,
      "outputs": [
        {
          "output_type": "execute_result",
          "data": {
            "text/plain": [
              "0.8552873538155149"
            ]
          },
          "metadata": {
            "tags": []
          },
          "execution_count": 9
        }
      ]
    }
  ]
}