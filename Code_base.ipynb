{
  "nbformat": 4,
  "nbformat_minor": 0,
  "metadata": {
    "kernelspec": {
      "name": "python3",
      "display_name": "Python 3"
    },
    "language_info": {
      "codemirror_mode": {
        "name": "ipython",
        "version": 3
      },
      "file_extension": ".py",
      "mimetype": "text/x-python",
      "name": "python",
      "nbconvert_exporter": "python",
      "pygments_lexer": "ipython3",
      "version": "3.6.5"
    },
    "colab": {
      "name": "Code_base.ipynb",
      "provenance": [],
      "collapsed_sections": [],
      "machine_shape": "hm"
    }
  },
  "cells": [
    {
      "cell_type": "code",
      "metadata": {
        "id": "uO3teCfDw8aY",
        "colab_type": "code",
        "outputId": "53f54bb4-4dbd-479b-f025-d4a663473656",
        "colab": {
          "base_uri": "https://localhost:8080/",
          "height": 190
        }
      },
      "source": [
        "import pandas as pd\n",
        "import numpy as np\n",
        "import math as mt\n",
        "import sklearn as sk1\n",
        "import datetime as dt\n",
        "import matplotlib.pyplot as plt\n",
        "import math \n",
        "import seaborn as plt1\n",
        "from sklearn.model_selection import train_test_split\n",
        "import pickle\n",
        "\n",
        "!pip install missingpy\n",
        "import missingpy as imput_helper\n"
      ],
      "execution_count": 0,
      "outputs": [
        {
          "output_type": "stream",
          "text": [
            "/usr/local/lib/python3.6/dist-packages/statsmodels/tools/_testing.py:19: FutureWarning: pandas.util.testing is deprecated. Use the functions in the public API at pandas.testing instead.\n",
            "  import pandas.util.testing as tm\n"
          ],
          "name": "stderr"
        },
        {
          "output_type": "stream",
          "text": [
            "Collecting missingpy\n",
            "\u001b[?25l  Downloading https://files.pythonhosted.org/packages/b5/be/998d04d27054b58f0974b5f09f8457778a0a72d4355e0b7ae877b6cfb850/missingpy-0.2.0-py3-none-any.whl (49kB)\n",
            "\r\u001b[K     |██████▊                         | 10kB 17.0MB/s eta 0:00:01\r\u001b[K     |█████████████▍                  | 20kB 2.1MB/s eta 0:00:01\r\u001b[K     |████████████████████            | 30kB 2.8MB/s eta 0:00:01\r\u001b[K     |██████████████████████████▊     | 40kB 2.0MB/s eta 0:00:01\r\u001b[K     |████████████████████████████████| 51kB 1.9MB/s \n",
            "\u001b[?25hInstalling collected packages: missingpy\n",
            "Successfully installed missingpy-0.2.0\n"
          ],
          "name": "stdout"
        },
        {
          "output_type": "stream",
          "text": [
            "/usr/local/lib/python3.6/dist-packages/sklearn/utils/deprecation.py:144: FutureWarning: The sklearn.neighbors.base module is  deprecated in version 0.22 and will be removed in version 0.24. The corresponding classes / functions should instead be imported from sklearn.neighbors. Anything that cannot be imported from sklearn.neighbors is now part of the private API.\n",
            "  warnings.warn(message, FutureWarning)\n"
          ],
          "name": "stderr"
        }
      ]
    },
    {
      "cell_type": "code",
      "metadata": {
        "id": "IjzFaNG-w8ac",
        "colab_type": "code",
        "colab": {}
      },
      "source": [
        "original = pd.read_csv(\"Train_Beneficiarydata-1542865627584.csv\")\n",
        "      \n",
        "work_dat_notDead = original.loc[original['DOD'].isnull(),:].copy()\n",
        "#work_dat_dead = original.loc[original['DOD'].notnull(),:].copy()"
      ],
      "execution_count": 0,
      "outputs": []
    },
    {
      "cell_type": "code",
      "metadata": {
        "id": "5TUYEarPw8ag",
        "colab_type": "code",
        "colab": {}
      },
      "source": [
        "work_dat_notDead[\"RenalDiseaseIndicator\"]= work_dat_notDead[\"RenalDiseaseIndicator\"].replace(\"Y\", \"1\") \n",
        "#work_dat_dead[\"RenalDiseaseIndicator\"]= work_dat_dead[\"RenalDiseaseIndicator\"].replace(\"Y\", \"1\") \n",
        "work_dat_notDead.dtypes\n",
        "\n",
        "work_dat_notDead = work_dat_notDead.drop('DOD',axis = 1)"
      ],
      "execution_count": 0,
      "outputs": []
    },
    {
      "cell_type": "code",
      "metadata": {
        "id": "4wZwJYVfw8aj",
        "colab_type": "code",
        "colab": {}
      },
      "source": [
        "work_dat_notDead[\"RenalDiseaseIndicator\"] = pd.to_numeric(work_dat_notDead[\"RenalDiseaseIndicator\"])\n",
        "work_dat_notDead['DOB'] = work_dat_notDead['DOB'].astype('datetime64[ns]')\n",
        "\n",
        "#work_dat_dead[\"RenalDiseaseIndicator\"] = pd.to_numeric(work_dat_dead[\"RenalDiseaseIndicator\"])\n",
        "#work_dat_dead['DOB'] = work_dat_dead['DOB'].astype('datetime64[ns]')\n",
        "#work_dat_dead['DOD'] = work_dat_dead['DOD'].astype('datetime64[ns]')"
      ],
      "execution_count": 0,
      "outputs": []
    },
    {
      "cell_type": "code",
      "metadata": {
        "id": "buXf0wz6w8an",
        "colab_type": "code",
        "outputId": "87ebd8b0-d850-40fd-cb0f-93aa5576603b",
        "colab": {
          "base_uri": "https://localhost:8080/",
          "height": 442
        }
      },
      "source": [
        "work_dat_notDead.dtypes"
      ],
      "execution_count": 0,
      "outputs": [
        {
          "output_type": "execute_result",
          "data": {
            "text/plain": [
              "BeneID                                     object\n",
              "DOB                                datetime64[ns]\n",
              "Gender                                      int64\n",
              "Race                                        int64\n",
              "RenalDiseaseIndicator                       int64\n",
              "State                                       int64\n",
              "County                                      int64\n",
              "NoOfMonths_PartACov                         int64\n",
              "NoOfMonths_PartBCov                         int64\n",
              "ChronicCond_Alzheimer                       int64\n",
              "ChronicCond_Heartfailure                    int64\n",
              "ChronicCond_KidneyDisease                   int64\n",
              "ChronicCond_Cancer                          int64\n",
              "ChronicCond_ObstrPulmonary                  int64\n",
              "ChronicCond_Depression                      int64\n",
              "ChronicCond_Diabetes                        int64\n",
              "ChronicCond_IschemicHeart                   int64\n",
              "ChronicCond_Osteoporasis                    int64\n",
              "ChronicCond_rheumatoidarthritis             int64\n",
              "ChronicCond_stroke                          int64\n",
              "IPAnnualReimbursementAmt                    int64\n",
              "IPAnnualDeductibleAmt                       int64\n",
              "OPAnnualReimbursementAmt                    int64\n",
              "OPAnnualDeductibleAmt                       int64\n",
              "dtype: object"
            ]
          },
          "metadata": {
            "tags": []
          },
          "execution_count": 5
        }
      ]
    },
    {
      "cell_type": "code",
      "metadata": {
        "id": "Osd3FfMbw8as",
        "colab_type": "code",
        "colab": {}
      },
      "source": [
        "## Data  Discreetisation in work_dat_notDead and work_dead:\n",
        "work_dat_notDead.loc[work_dat_notDead['ChronicCond_Alzheimer']==2,'ChronicCond_Alzheimer'] = 0\n",
        "#work_dat_dead.loc[work_dat_dead['ChronicCond_Alzheimer']==2,'ChronicCond_Alzheimer'] = 0\n",
        "\n",
        "work_dat_notDead.loc[work_dat_notDead['ChronicCond_Heartfailure']==2,'ChronicCond_Heartfailure'] = 0\n",
        "#work_dat_dead.loc[work_dat_dead['ChronicCond_Heartfailure']==2,'ChronicCond_Heartfailure'] = 0\n",
        "\n",
        "work_dat_notDead.loc[work_dat_notDead['ChronicCond_KidneyDisease']==2,'ChronicCond_KidneyDisease'] = 0\n",
        "#work_dat_dead.loc[work_dat_dead['ChronicCond_KidneyDisease']==2,'ChronicCond_KidneyDisease'] = 0\n",
        "\n",
        "work_dat_notDead.loc[work_dat_notDead['ChronicCond_Cancer']==2,'ChronicCond_Cancer'] = 0\n",
        "#work_dat_dead.loc[work_dat_dead['ChronicCond_Cancer']==2,'ChronicCond_Cancer'] = 0\n",
        "\n",
        "work_dat_notDead.loc[work_dat_notDead['ChronicCond_ObstrPulmonary']==2,'ChronicCond_ObstrPulmonary'] = 0\n",
        "#work_dat_dead.loc[work_dat_dead['ChronicCond_ObstrPulmonary']==2,'ChronicCond_ObstrPulmonary'] = 0\n",
        "\n",
        "work_dat_notDead.loc[work_dat_notDead['ChronicCond_Depression']==2,'ChronicCond_Depression'] = 0\n",
        "#work_dat_dead.loc[work_dat_dead['ChronicCond_Depression']==2,'ChronicCond_Depression'] = 0\n",
        "\n",
        "work_dat_notDead.loc[work_dat_notDead['ChronicCond_IschemicHeart']==2,'ChronicCond_IschemicHeart'] = 0\n",
        "#work_dat_dead.loc[work_dat_dead['ChronicCond_IschemicHeart']==2,'ChronicCond_IschemicHeart'] = 0\n",
        "\n",
        "work_dat_notDead.loc[work_dat_notDead['ChronicCond_Osteoporasis']==2,'ChronicCond_Osteoporasis'] = 0\n",
        "#work_dat_dead.loc[work_dat_dead['ChronicCond_Osteoporasis']==2,'ChronicCond_Osteoporasis'] = 0\n",
        "\n",
        "work_dat_notDead.loc[work_dat_notDead['ChronicCond_rheumatoidarthritis']==2,'ChronicCond_rheumatoidarthritis'] = 0\n",
        "#work_dat_dead.loc[work_dat_dead['ChronicCond_rheumatoidarthritis']==2,'ChronicCond_rheumatoidarthritis'] = 0\n",
        "\n",
        "work_dat_notDead.loc[work_dat_notDead['ChronicCond_stroke']==2,'ChronicCond_stroke'] = 0\n",
        "#work_dat_dead.loc[work_dat_dead['ChronicCond_stroke']==2,'ChronicCond_stroke'] = 0\n",
        "\n",
        "work_dat_notDead.loc[work_dat_notDead['ChronicCond_Diabetes']==2,'ChronicCond_Diabetes'] = 0\n",
        "#work_dat_dead.loc[work_dat_dead['ChronicCond_Diabetes']==2,'ChronicCond_Diabetes'] = 0"
      ],
      "execution_count": 0,
      "outputs": []
    },
    {
      "cell_type": "code",
      "metadata": {
        "id": "7_o7jwV8w8au",
        "colab_type": "code",
        "outputId": "9235a424-322e-47a9-8ec9-61fcdf22f923",
        "colab": {
          "base_uri": "https://localhost:8080/",
          "height": 609
        }
      },
      "source": [
        "## Addition of the feature:\n",
        "work_dat_notDead[\"age\"] = [math.ceil(td.days/365) for td in (dt.datetime.today() - work_dat_notDead[\"DOB\"])]\n",
        "#work_dat_dead[\"age\"] = [math.ceil(td.days/365) for td in (work_dat_dead['DOD'] - work_dat_dead['DOB'])]\n",
        "\n",
        "work_dat_notDead"
      ],
      "execution_count": 0,
      "outputs": [
        {
          "output_type": "execute_result",
          "data": {
            "text/html": [
              "<div>\n",
              "<style scoped>\n",
              "    .dataframe tbody tr th:only-of-type {\n",
              "        vertical-align: middle;\n",
              "    }\n",
              "\n",
              "    .dataframe tbody tr th {\n",
              "        vertical-align: top;\n",
              "    }\n",
              "\n",
              "    .dataframe thead th {\n",
              "        text-align: right;\n",
              "    }\n",
              "</style>\n",
              "<table border=\"1\" class=\"dataframe\">\n",
              "  <thead>\n",
              "    <tr style=\"text-align: right;\">\n",
              "      <th></th>\n",
              "      <th>BeneID</th>\n",
              "      <th>DOB</th>\n",
              "      <th>Gender</th>\n",
              "      <th>Race</th>\n",
              "      <th>RenalDiseaseIndicator</th>\n",
              "      <th>State</th>\n",
              "      <th>County</th>\n",
              "      <th>NoOfMonths_PartACov</th>\n",
              "      <th>NoOfMonths_PartBCov</th>\n",
              "      <th>ChronicCond_Alzheimer</th>\n",
              "      <th>ChronicCond_Heartfailure</th>\n",
              "      <th>ChronicCond_KidneyDisease</th>\n",
              "      <th>ChronicCond_Cancer</th>\n",
              "      <th>ChronicCond_ObstrPulmonary</th>\n",
              "      <th>ChronicCond_Depression</th>\n",
              "      <th>ChronicCond_Diabetes</th>\n",
              "      <th>ChronicCond_IschemicHeart</th>\n",
              "      <th>ChronicCond_Osteoporasis</th>\n",
              "      <th>ChronicCond_rheumatoidarthritis</th>\n",
              "      <th>ChronicCond_stroke</th>\n",
              "      <th>IPAnnualReimbursementAmt</th>\n",
              "      <th>IPAnnualDeductibleAmt</th>\n",
              "      <th>OPAnnualReimbursementAmt</th>\n",
              "      <th>OPAnnualDeductibleAmt</th>\n",
              "      <th>age</th>\n",
              "    </tr>\n",
              "  </thead>\n",
              "  <tbody>\n",
              "    <tr>\n",
              "      <th>0</th>\n",
              "      <td>BENE11001</td>\n",
              "      <td>1943-01-01</td>\n",
              "      <td>1</td>\n",
              "      <td>1</td>\n",
              "      <td>0</td>\n",
              "      <td>39</td>\n",
              "      <td>230</td>\n",
              "      <td>12</td>\n",
              "      <td>12</td>\n",
              "      <td>1</td>\n",
              "      <td>0</td>\n",
              "      <td>1</td>\n",
              "      <td>0</td>\n",
              "      <td>0</td>\n",
              "      <td>1</td>\n",
              "      <td>1</td>\n",
              "      <td>1</td>\n",
              "      <td>0</td>\n",
              "      <td>1</td>\n",
              "      <td>1</td>\n",
              "      <td>36000</td>\n",
              "      <td>3204</td>\n",
              "      <td>60</td>\n",
              "      <td>70</td>\n",
              "      <td>78</td>\n",
              "    </tr>\n",
              "    <tr>\n",
              "      <th>1</th>\n",
              "      <td>BENE11002</td>\n",
              "      <td>1936-09-01</td>\n",
              "      <td>2</td>\n",
              "      <td>1</td>\n",
              "      <td>0</td>\n",
              "      <td>39</td>\n",
              "      <td>280</td>\n",
              "      <td>12</td>\n",
              "      <td>12</td>\n",
              "      <td>0</td>\n",
              "      <td>0</td>\n",
              "      <td>0</td>\n",
              "      <td>0</td>\n",
              "      <td>0</td>\n",
              "      <td>0</td>\n",
              "      <td>0</td>\n",
              "      <td>0</td>\n",
              "      <td>0</td>\n",
              "      <td>0</td>\n",
              "      <td>0</td>\n",
              "      <td>0</td>\n",
              "      <td>0</td>\n",
              "      <td>30</td>\n",
              "      <td>50</td>\n",
              "      <td>84</td>\n",
              "    </tr>\n",
              "    <tr>\n",
              "      <th>2</th>\n",
              "      <td>BENE11003</td>\n",
              "      <td>1936-08-01</td>\n",
              "      <td>1</td>\n",
              "      <td>1</td>\n",
              "      <td>0</td>\n",
              "      <td>52</td>\n",
              "      <td>590</td>\n",
              "      <td>12</td>\n",
              "      <td>12</td>\n",
              "      <td>1</td>\n",
              "      <td>0</td>\n",
              "      <td>0</td>\n",
              "      <td>0</td>\n",
              "      <td>0</td>\n",
              "      <td>0</td>\n",
              "      <td>0</td>\n",
              "      <td>1</td>\n",
              "      <td>0</td>\n",
              "      <td>0</td>\n",
              "      <td>0</td>\n",
              "      <td>0</td>\n",
              "      <td>0</td>\n",
              "      <td>90</td>\n",
              "      <td>40</td>\n",
              "      <td>84</td>\n",
              "    </tr>\n",
              "    <tr>\n",
              "      <th>3</th>\n",
              "      <td>BENE11004</td>\n",
              "      <td>1922-07-01</td>\n",
              "      <td>1</td>\n",
              "      <td>1</td>\n",
              "      <td>0</td>\n",
              "      <td>39</td>\n",
              "      <td>270</td>\n",
              "      <td>12</td>\n",
              "      <td>12</td>\n",
              "      <td>1</td>\n",
              "      <td>1</td>\n",
              "      <td>0</td>\n",
              "      <td>0</td>\n",
              "      <td>0</td>\n",
              "      <td>0</td>\n",
              "      <td>1</td>\n",
              "      <td>1</td>\n",
              "      <td>1</td>\n",
              "      <td>1</td>\n",
              "      <td>0</td>\n",
              "      <td>0</td>\n",
              "      <td>0</td>\n",
              "      <td>1810</td>\n",
              "      <td>760</td>\n",
              "      <td>98</td>\n",
              "    </tr>\n",
              "    <tr>\n",
              "      <th>4</th>\n",
              "      <td>BENE11005</td>\n",
              "      <td>1935-09-01</td>\n",
              "      <td>1</td>\n",
              "      <td>1</td>\n",
              "      <td>0</td>\n",
              "      <td>24</td>\n",
              "      <td>680</td>\n",
              "      <td>12</td>\n",
              "      <td>12</td>\n",
              "      <td>0</td>\n",
              "      <td>0</td>\n",
              "      <td>0</td>\n",
              "      <td>0</td>\n",
              "      <td>1</td>\n",
              "      <td>0</td>\n",
              "      <td>1</td>\n",
              "      <td>0</td>\n",
              "      <td>0</td>\n",
              "      <td>0</td>\n",
              "      <td>0</td>\n",
              "      <td>0</td>\n",
              "      <td>0</td>\n",
              "      <td>1790</td>\n",
              "      <td>1200</td>\n",
              "      <td>85</td>\n",
              "    </tr>\n",
              "    <tr>\n",
              "      <th>...</th>\n",
              "      <td>...</td>\n",
              "      <td>...</td>\n",
              "      <td>...</td>\n",
              "      <td>...</td>\n",
              "      <td>...</td>\n",
              "      <td>...</td>\n",
              "      <td>...</td>\n",
              "      <td>...</td>\n",
              "      <td>...</td>\n",
              "      <td>...</td>\n",
              "      <td>...</td>\n",
              "      <td>...</td>\n",
              "      <td>...</td>\n",
              "      <td>...</td>\n",
              "      <td>...</td>\n",
              "      <td>...</td>\n",
              "      <td>...</td>\n",
              "      <td>...</td>\n",
              "      <td>...</td>\n",
              "      <td>...</td>\n",
              "      <td>...</td>\n",
              "      <td>...</td>\n",
              "      <td>...</td>\n",
              "      <td>...</td>\n",
              "      <td>...</td>\n",
              "    </tr>\n",
              "    <tr>\n",
              "      <th>138551</th>\n",
              "      <td>BENE159194</td>\n",
              "      <td>1939-07-01</td>\n",
              "      <td>1</td>\n",
              "      <td>1</td>\n",
              "      <td>0</td>\n",
              "      <td>39</td>\n",
              "      <td>140</td>\n",
              "      <td>12</td>\n",
              "      <td>12</td>\n",
              "      <td>1</td>\n",
              "      <td>0</td>\n",
              "      <td>0</td>\n",
              "      <td>0</td>\n",
              "      <td>0</td>\n",
              "      <td>0</td>\n",
              "      <td>0</td>\n",
              "      <td>0</td>\n",
              "      <td>0</td>\n",
              "      <td>0</td>\n",
              "      <td>0</td>\n",
              "      <td>0</td>\n",
              "      <td>0</td>\n",
              "      <td>430</td>\n",
              "      <td>460</td>\n",
              "      <td>81</td>\n",
              "    </tr>\n",
              "    <tr>\n",
              "      <th>138552</th>\n",
              "      <td>BENE159195</td>\n",
              "      <td>1938-12-01</td>\n",
              "      <td>2</td>\n",
              "      <td>1</td>\n",
              "      <td>0</td>\n",
              "      <td>49</td>\n",
              "      <td>530</td>\n",
              "      <td>12</td>\n",
              "      <td>12</td>\n",
              "      <td>1</td>\n",
              "      <td>0</td>\n",
              "      <td>0</td>\n",
              "      <td>0</td>\n",
              "      <td>0</td>\n",
              "      <td>0</td>\n",
              "      <td>1</td>\n",
              "      <td>0</td>\n",
              "      <td>0</td>\n",
              "      <td>0</td>\n",
              "      <td>0</td>\n",
              "      <td>0</td>\n",
              "      <td>0</td>\n",
              "      <td>880</td>\n",
              "      <td>100</td>\n",
              "      <td>82</td>\n",
              "    </tr>\n",
              "    <tr>\n",
              "      <th>138553</th>\n",
              "      <td>BENE159196</td>\n",
              "      <td>1916-06-01</td>\n",
              "      <td>2</td>\n",
              "      <td>1</td>\n",
              "      <td>0</td>\n",
              "      <td>6</td>\n",
              "      <td>150</td>\n",
              "      <td>12</td>\n",
              "      <td>12</td>\n",
              "      <td>0</td>\n",
              "      <td>1</td>\n",
              "      <td>1</td>\n",
              "      <td>1</td>\n",
              "      <td>0</td>\n",
              "      <td>1</td>\n",
              "      <td>1</td>\n",
              "      <td>1</td>\n",
              "      <td>0</td>\n",
              "      <td>0</td>\n",
              "      <td>0</td>\n",
              "      <td>2000</td>\n",
              "      <td>1068</td>\n",
              "      <td>3240</td>\n",
              "      <td>1390</td>\n",
              "      <td>104</td>\n",
              "    </tr>\n",
              "    <tr>\n",
              "      <th>138554</th>\n",
              "      <td>BENE159197</td>\n",
              "      <td>1930-01-01</td>\n",
              "      <td>1</td>\n",
              "      <td>1</td>\n",
              "      <td>0</td>\n",
              "      <td>16</td>\n",
              "      <td>560</td>\n",
              "      <td>12</td>\n",
              "      <td>12</td>\n",
              "      <td>1</td>\n",
              "      <td>1</td>\n",
              "      <td>0</td>\n",
              "      <td>0</td>\n",
              "      <td>0</td>\n",
              "      <td>0</td>\n",
              "      <td>0</td>\n",
              "      <td>1</td>\n",
              "      <td>0</td>\n",
              "      <td>0</td>\n",
              "      <td>0</td>\n",
              "      <td>0</td>\n",
              "      <td>0</td>\n",
              "      <td>2650</td>\n",
              "      <td>10</td>\n",
              "      <td>91</td>\n",
              "    </tr>\n",
              "    <tr>\n",
              "      <th>138555</th>\n",
              "      <td>BENE159198</td>\n",
              "      <td>1952-04-01</td>\n",
              "      <td>2</td>\n",
              "      <td>1</td>\n",
              "      <td>0</td>\n",
              "      <td>21</td>\n",
              "      <td>20</td>\n",
              "      <td>12</td>\n",
              "      <td>12</td>\n",
              "      <td>1</td>\n",
              "      <td>1</td>\n",
              "      <td>0</td>\n",
              "      <td>0</td>\n",
              "      <td>0</td>\n",
              "      <td>1</td>\n",
              "      <td>1</td>\n",
              "      <td>0</td>\n",
              "      <td>0</td>\n",
              "      <td>1</td>\n",
              "      <td>0</td>\n",
              "      <td>0</td>\n",
              "      <td>0</td>\n",
              "      <td>5470</td>\n",
              "      <td>1870</td>\n",
              "      <td>69</td>\n",
              "    </tr>\n",
              "  </tbody>\n",
              "</table>\n",
              "<p>137135 rows × 25 columns</p>\n",
              "</div>"
            ],
            "text/plain": [
              "            BeneID        DOB  ...  OPAnnualDeductibleAmt  age\n",
              "0        BENE11001 1943-01-01  ...                     70   78\n",
              "1        BENE11002 1936-09-01  ...                     50   84\n",
              "2        BENE11003 1936-08-01  ...                     40   84\n",
              "3        BENE11004 1922-07-01  ...                    760   98\n",
              "4        BENE11005 1935-09-01  ...                   1200   85\n",
              "...            ...        ...  ...                    ...  ...\n",
              "138551  BENE159194 1939-07-01  ...                    460   81\n",
              "138552  BENE159195 1938-12-01  ...                    100   82\n",
              "138553  BENE159196 1916-06-01  ...                   1390  104\n",
              "138554  BENE159197 1930-01-01  ...                     10   91\n",
              "138555  BENE159198 1952-04-01  ...                   1870   69\n",
              "\n",
              "[137135 rows x 25 columns]"
            ]
          },
          "metadata": {
            "tags": []
          },
          "execution_count": 7
        }
      ]
    },
    {
      "cell_type": "code",
      "metadata": {
        "id": "5WmzlRACw8a4",
        "colab_type": "code",
        "outputId": "1b3417fa-c4da-41f3-8bcd-b08c44186fbb",
        "colab": {
          "base_uri": "https://localhost:8080/",
          "height": 459
        }
      },
      "source": [
        "work_dat_notDead.dtypes"
      ],
      "execution_count": 0,
      "outputs": [
        {
          "output_type": "execute_result",
          "data": {
            "text/plain": [
              "BeneID                                     object\n",
              "DOB                                datetime64[ns]\n",
              "Gender                                      int64\n",
              "Race                                        int64\n",
              "RenalDiseaseIndicator                       int64\n",
              "State                                       int64\n",
              "County                                      int64\n",
              "NoOfMonths_PartACov                         int64\n",
              "NoOfMonths_PartBCov                         int64\n",
              "ChronicCond_Alzheimer                       int64\n",
              "ChronicCond_Heartfailure                    int64\n",
              "ChronicCond_KidneyDisease                   int64\n",
              "ChronicCond_Cancer                          int64\n",
              "ChronicCond_ObstrPulmonary                  int64\n",
              "ChronicCond_Depression                      int64\n",
              "ChronicCond_Diabetes                        int64\n",
              "ChronicCond_IschemicHeart                   int64\n",
              "ChronicCond_Osteoporasis                    int64\n",
              "ChronicCond_rheumatoidarthritis             int64\n",
              "ChronicCond_stroke                          int64\n",
              "IPAnnualReimbursementAmt                    int64\n",
              "IPAnnualDeductibleAmt                       int64\n",
              "OPAnnualReimbursementAmt                    int64\n",
              "OPAnnualDeductibleAmt                       int64\n",
              "age                                         int64\n",
              "dtype: object"
            ]
          },
          "metadata": {
            "tags": []
          },
          "execution_count": 8
        }
      ]
    },
    {
      "cell_type": "code",
      "metadata": {
        "id": "wFcDGDIPw8a6",
        "colab_type": "code",
        "outputId": "2856094c-e49f-4f1a-fa21-610c28b36a14",
        "colab": {
          "base_uri": "https://localhost:8080/",
          "height": 544
        }
      },
      "source": [
        "work_inpatient = pd.read_csv(\"Train_Inpatientdata-1542865627584.csv\")\n",
        "\n",
        "#work_inpatient_work = work_inpatient.copy()\n",
        "\n",
        "work_inpatient['ClaimStartDt'] = work_inpatient['ClaimStartDt'].astype(\"datetime64[ns]\")\n",
        "work_inpatient['ClaimEndDt'] = work_inpatient['ClaimEndDt'].astype(\"datetime64[ns]\")\n",
        "\n",
        "work_inpatient.dtypes"
      ],
      "execution_count": 0,
      "outputs": [
        {
          "output_type": "execute_result",
          "data": {
            "text/plain": [
              "BeneID                            object\n",
              "ClaimID                           object\n",
              "ClaimStartDt              datetime64[ns]\n",
              "ClaimEndDt                datetime64[ns]\n",
              "Provider                          object\n",
              "InscClaimAmtReimbursed             int64\n",
              "AttendingPhysician                object\n",
              "OperatingPhysician                object\n",
              "OtherPhysician                    object\n",
              "AdmissionDt                       object\n",
              "ClmAdmitDiagnosisCode             object\n",
              "DeductibleAmtPaid                float64\n",
              "DischargeDt                       object\n",
              "DiagnosisGroupCode                object\n",
              "ClmDiagnosisCode_1                object\n",
              "ClmDiagnosisCode_2                object\n",
              "ClmDiagnosisCode_3                object\n",
              "ClmDiagnosisCode_4                object\n",
              "ClmDiagnosisCode_5                object\n",
              "ClmDiagnosisCode_6                object\n",
              "ClmDiagnosisCode_7                object\n",
              "ClmDiagnosisCode_8                object\n",
              "ClmDiagnosisCode_9                object\n",
              "ClmDiagnosisCode_10               object\n",
              "ClmProcedureCode_1               float64\n",
              "ClmProcedureCode_2               float64\n",
              "ClmProcedureCode_3               float64\n",
              "ClmProcedureCode_4               float64\n",
              "ClmProcedureCode_5               float64\n",
              "ClmProcedureCode_6               float64\n",
              "dtype: object"
            ]
          },
          "metadata": {
            "tags": []
          },
          "execution_count": 9
        }
      ]
    },
    {
      "cell_type": "code",
      "metadata": {
        "id": "Zu2rnHIew8a9",
        "colab_type": "code",
        "colab": {}
      },
      "source": [
        "# For statistical imputation of AttendingPysicians:\n",
        "Attending_physiciandf = work_inpatient[['BeneID','Provider','DiagnosisGroupCode','AttendingPhysician','InscClaimAmtReimbursed']].copy()\n",
        "Beneficiary_inpatientdatdf = work_dat_notDead[['BeneID','Gender','age','RenalDiseaseIndicator','State','County','ChronicCond_Alzheimer','ChronicCond_Heartfailure','ChronicCond_KidneyDisease','ChronicCond_Cancer','ChronicCond_ObstrPulmonary','ChronicCond_ObstrPulmonary','ChronicCond_Depression','ChronicCond_Diabetes','ChronicCond_IschemicHeart','ChronicCond_Osteoporasis','ChronicCond_rheumatoidarthritis','ChronicCond_rheumatoidarthritis','ChronicCond_stroke']].copy()\n",
        "\n",
        "missingdata_imputation_notdead = pd.merge(Attending_physiciandf,Beneficiary_inpatientdatdf,on='BeneID')\n",
        "\n",
        "missingdata_imputation_notdead\n",
        "\n",
        "#Beneficiary_inpatientdat_deaddf = work_dat_dead[['BeneID','Gender','age','RenalDiseaseIndicator','State','County','ChronicCond_Alzheimer','ChronicCond_Heartfailure','ChronicCond_KidneyDisease','ChronicCond_Cancer','ChronicCond_ObstrPulmonary','ChronicCond_ObstrPulmonary','ChronicCond_Depression','ChronicCond_Diabetes','ChronicCond_IschemicHeart','ChronicCond_Osteoporasis','ChronicCond_rheumatoidarthritis','ChronicCond_rheumatoidarthritis','ChronicCond_stroke']].copy()\n",
        "\n",
        "#missingdata_imputation_dead = pd.merge(Attending_physiciandf,Beneficiary_inpatientdat_deaddf,on='BeneID')\n",
        "\n",
        "#missingdata_imputation_dead\n",
        "\n",
        "#imput_df = missingdata_imputation_notdead\n",
        "\n",
        "attendingPhy_trainset = missingdata_imputation_notdead.loc[missingdata_imputation_notdead['AttendingPhysician'].notnull(),:].copy()\n",
        "\n",
        "tr1 = attendingPhy_trainset.copy()\n",
        "tr2 = attendingPhy_trainset.copy()\n",
        "tr3 = attendingPhy_trainset.copy()\n",
        "\n",
        "attendingPhy_trainset = tr1.groupby(['State','County','Provider','DiagnosisGroupCode'])\n",
        "\n",
        "attendingPhy_tr1 = tr2.groupby(['State','County','Provider'])\n",
        "\n",
        "attendingPhy_tr2 = tr3.groupby(['State'])\n",
        "\n",
        "phy_value_insert = {}\n",
        "phy_value_insert1 = {}\n",
        "phy_value_insert2 = {}\n",
        "\n",
        "group_key = attendingPhy_trainset.indices.keys()\n",
        " \n",
        "group_key1 = attendingPhy_tr1.indices.keys()\n",
        "\n",
        "group_key2 = attendingPhy_tr2.indices.keys()\n",
        "for i in group_key:\n",
        "  phy_value_insert[i] = attendingPhy_trainset.get_group(i)['AttendingPhysician'].value_counts().idxmax()\n",
        "\n",
        "for k in group_key1:\n",
        "  phy_value_insert1[k] = attendingPhy_tr1.get_group(k)['AttendingPhysician'].value_counts().idxmax()\n",
        "\n",
        "for l in group_key2:\n",
        "  phy_value_insert2[l] = attendingPhy_tr2.get_group(l)['AttendingPhysician'].value_counts().idxmax()\n",
        "\n",
        "\n",
        "Attending_pdf = work_inpatient[['BeneID','AttendingPhysician','OperatingPhysician','OtherPhysician','ClaimID','Provider','InscClaimAmtReimbursed','DiagnosisGroupCode']].copy()\n",
        "#work_dat_notDead = work_dat_notDead.join(Attending_pdf,on = 'BeneID', how='inner')\n",
        "work_dat_notDead = pd.merge(left=work_dat_notDead,right=Attending_pdf,left_on='BeneID',right_on='BeneID',how='inner')\n",
        "   #work_dat_dead = pd.merge(work_dat_dead,Attending_pdf,on='BeneID')\n",
        "\n"
      ],
      "execution_count": 0,
      "outputs": []
    },
    {
      "cell_type": "code",
      "metadata": {
        "id": "QOwTOUknJqsT",
        "colab_type": "code",
        "outputId": "824781a1-03b3-4f8f-eefe-7b016d6f7a84",
        "colab": {
          "base_uri": "https://localhost:8080/",
          "height": 527
        }
      },
      "source": [
        "\n",
        "work_dat_notDead = work_dat_notDead.drop(columns=['DOB','NoOfMonths_PartACov','NoOfMonths_PartBCov'])\n",
        "work_dat_notDead.dtypes"
      ],
      "execution_count": 0,
      "outputs": [
        {
          "output_type": "execute_result",
          "data": {
            "text/plain": [
              "BeneID                             object\n",
              "Gender                              int64\n",
              "Race                                int64\n",
              "RenalDiseaseIndicator               int64\n",
              "State                               int64\n",
              "County                              int64\n",
              "ChronicCond_Alzheimer               int64\n",
              "ChronicCond_Heartfailure            int64\n",
              "ChronicCond_KidneyDisease           int64\n",
              "ChronicCond_Cancer                  int64\n",
              "ChronicCond_ObstrPulmonary          int64\n",
              "ChronicCond_Depression              int64\n",
              "ChronicCond_Diabetes                int64\n",
              "ChronicCond_IschemicHeart           int64\n",
              "ChronicCond_Osteoporasis            int64\n",
              "ChronicCond_rheumatoidarthritis     int64\n",
              "ChronicCond_stroke                  int64\n",
              "IPAnnualReimbursementAmt            int64\n",
              "IPAnnualDeductibleAmt               int64\n",
              "OPAnnualReimbursementAmt            int64\n",
              "OPAnnualDeductibleAmt               int64\n",
              "age                                 int64\n",
              "AttendingPhysician                 object\n",
              "OperatingPhysician                 object\n",
              "OtherPhysician                     object\n",
              "ClaimID                            object\n",
              "Provider                           object\n",
              "InscClaimAmtReimbursed              int64\n",
              "DiagnosisGroupCode                 object\n",
              "dtype: object"
            ]
          },
          "metadata": {
            "tags": []
          },
          "execution_count": 11
        }
      ]
    },
    {
      "cell_type": "code",
      "metadata": {
        "id": "rSxZcnbgvu4w",
        "colab_type": "code",
        "outputId": "2db7a9c2-043d-429d-d124-66cd34231a95",
        "colab": {
          "base_uri": "https://localhost:8080/",
          "height": 527
        }
      },
      "source": [
        ""
      ],
      "execution_count": 0,
      "outputs": [
        {
          "output_type": "execute_result",
          "data": {
            "text/plain": [
              "BeneID                             object\n",
              "Gender                              int64\n",
              "Race                                int64\n",
              "RenalDiseaseIndicator               int64\n",
              "State                               int64\n",
              "County                              int64\n",
              "ChronicCond_Alzheimer               int64\n",
              "ChronicCond_Heartfailure            int64\n",
              "ChronicCond_KidneyDisease           int64\n",
              "ChronicCond_Cancer                  int64\n",
              "ChronicCond_ObstrPulmonary          int64\n",
              "ChronicCond_Depression              int64\n",
              "ChronicCond_Diabetes                int64\n",
              "ChronicCond_IschemicHeart           int64\n",
              "ChronicCond_Osteoporasis            int64\n",
              "ChronicCond_rheumatoidarthritis     int64\n",
              "ChronicCond_stroke                  int64\n",
              "IPAnnualReimbursementAmt            int64\n",
              "IPAnnualDeductibleAmt               int64\n",
              "OPAnnualReimbursementAmt            int64\n",
              "OPAnnualDeductibleAmt               int64\n",
              "age                                 int64\n",
              "AttendingPhysician                 object\n",
              "OperatingPhysician                 object\n",
              "OtherPhysician                     object\n",
              "ClaimID                            object\n",
              "Provider                           object\n",
              "InscClaimAmtReimbursed              int64\n",
              "DiagnosisGroupCode                 object\n",
              "dtype: object"
            ]
          },
          "metadata": {
            "tags": []
          },
          "execution_count": 21
        }
      ]
    },
    {
      "cell_type": "code",
      "metadata": {
        "id": "f0JM4YNkhjU5",
        "colab_type": "code",
        "colab": {}
      },
      "source": [
        "\n",
        "# cases where there are operatingPhysicians but no otherPhysicians:\n",
        "op_oth_Phy_exceptions = work_dat_notDead.loc[((work_dat_notDead['AttendingPhysician'].isnull()) & (work_dat_notDead[\"OperatingPhysician\"].notnull()) & (work_dat_notDead[\"OtherPhysician\"].isnull()) ),\"BeneID\"]\n",
        "\n",
        "for q in op_oth_Phy_exceptions:\n",
        "  work_dat_notDead.loc[((work_dat_notDead['AttendingPhysician'].isnull()) & (work_dat_notDead[\"OperatingPhysician\"].notnull()) & (work_dat_notDead[\"OtherPhysician\"].isnull()) & (work_dat_notDead[\"BeneID\"]==q)),\"OtherPhysician\"] = work_dat_notDead.loc[((work_dat_notDead['AttendingPhysician'].isnull()) & (work_dat_notDead[\"OperatingPhysician\"].notnull()) & (work_dat_notDead[\"OtherPhysician\"].isnull())  & (work_dat_notDead['BeneID']==q) ),\"OperatingPhysician\"]\n",
        "\n",
        "# cases where there are operating Physicians but no Attending Physicians:\n",
        "Att_op_Phy_exceptions = work_dat_notDead.loc[((work_dat_notDead['AttendingPhysician'].isnull()) & (work_dat_notDead[\"OperatingPhysician\"].notnull()) ),\"BeneID\"]\n",
        "\n",
        "for t in Att_op_Phy_exceptions:\n",
        "  work_dat_notDead.loc[((work_dat_notDead['AttendingPhysician'].isnull()) & (work_dat_notDead[\"OperatingPhysician\"].notnull()) & (work_dat_notDead[\"BeneID\"]==t)),\"AttendingPhysician\"] = work_dat_notDead.loc[((work_dat_notDead['AttendingPhysician'].isnull()) & (work_dat_notDead[\"OperatingPhysician\"].notnull()) & (work_dat_notDead['BeneID']==t) ),\"OperatingPhysician\"]\n",
        "\n",
        "People_totreat = work_dat_notDead.loc[work_dat_notDead['AttendingPhysician'].isnull(),['BeneID','State','County','Provider','DiagnosisGroupCode']] \n",
        "\n",
        "# Create an empty list \n",
        "People_Row_list =[] \n",
        "  \n",
        "# Iterate over each row \n",
        "for index, rows in People_totreat.iterrows(): \n",
        "    # Create list for the current row \n",
        "    my_list =[rows.BeneID, rows.State, rows.County, rows.Provider, rows.DiagnosisGroupCode] \n",
        "      \n",
        "    # append the list to the final list \n",
        "    People_Row_list.append(my_list)"
      ],
      "execution_count": 0,
      "outputs": []
    },
    {
      "cell_type": "code",
      "metadata": {
        "id": "An00R6Az_b4b",
        "colab_type": "code",
        "colab": {}
      },
      "source": [
        "for people in People_Row_list:\n",
        "  value_extract = people.copy()\n",
        "  value_extract.pop(0)\n",
        "  try:\n",
        "    work_dat_notDead.loc[((work_dat_notDead['BeneID']==people[0]) & (work_dat_notDead['State']==people[1]) & (work_dat_notDead['County']==people[2]) & (work_dat_notDead['Provider']==people[3]) & (work_dat_notDead['DiagnosisGroupCode']==people[4])),'AttendingPhysician'] = phy_value_insert[tuple(value_extract)]\n",
        "    #work_dat_dead.loc[((work_dat_dead['BeneID']==people[0]) & (work_dat_dead['State']==people[1]) & (work_dat_dead['County']==people[2]) & (work_dat_dead['Provider']==people[3]) & (work_dat_dead['DiagnosisGroupCode']==people[4])),'AttendingPhysician'] = phy_value_insert[tuple(value_extract)]    \n",
        "  except KeyError:\n",
        "    value_extract.pop(3)\n",
        "    try:\n",
        "      work_dat_notDead.loc[((work_dat_notDead['BeneID']==people[0]) & (work_dat_notDead['State']==people[1]) & (work_dat_notDead['County']==people[2]) & (work_dat_notDead['Provider']==people[3]) & (work_dat_notDead['DiagnosisGroupCode']==people[4])),'AttendingPhysician'] = phy_value_insert1[tuple(value_extract)]\n",
        "      #work_dat_dead.loc[((work_dat_dead['BeneID']==people[0]) & (work_dat_dead['State']==people[1]) & (work_dat_dead['County']==people[2]) & (work_dat_dead['Provider']==people[3]) & (work_dat_dead['DiagnosisGroupCode']==people[4])),'AttendingPhysician'] = phy_value_insert1[tuple(value_extract)]\n",
        "    except:\n",
        "      red_ar1 = value_extract[0]\n",
        "      work_dat_notDead.loc[((work_dat_notDead['BeneID']==people[0]) & (work_dat_notDead['State']==people[1]) & (work_dat_notDead['County']==people[2]) & (work_dat_notDead['Provider']==people[3]) & (work_dat_notDead['DiagnosisGroupCode']==people[4])),'AttendingPhysician'] = phy_value_insert2[red_ar1]\n",
        "      #work_dat_dead.loc[((work_dat_dead['BeneID']==people[0]) & (work_dat_dead['State']==people[1]) & (work_dat_dead['County']==people[2]) & (work_dat_dead['Provider']==people[3]) & (work_dat_dead['DiagnosisGroupCode']==people[4])),'AttendingPhysician'] = phy_value_insert2[red_ar1]\n",
        "\n",
        "# cases where there are AttendingPhysicians but no operatingPhysicians still and no otherPhysicians:\n",
        "att_op_Phy_exceptions = work_dat_notDead.loc[((work_dat_notDead['AttendingPhysician'].notnull()) & (work_dat_notDead[\"OperatingPhysician\"].isnull()) & (work_dat_notDead[\"OtherPhysician\"].isnull()) ),\"BeneID\"]\n",
        "\n",
        "for w in att_op_Phy_exceptions:\n",
        "  work_dat_notDead.loc[((work_dat_notDead['AttendingPhysician'].notnull()) & (work_dat_notDead[\"OperatingPhysician\"].isnull()) & (work_dat_notDead[\"OtherPhysician\"].isnull()) & (work_dat_notDead[\"BeneID\"]==w)),\"OperatingPhysician\"] = work_dat_notDead.loc[((work_dat_notDead['AttendingPhysician'].notnull()) & (work_dat_notDead[\"OperatingPhysician\"].isnull()) & (work_dat_notDead[\"OtherPhysician\"].isnull())  & (work_dat_notDead['BeneID']==w) ),\"AttendingPhysician\"]\n",
        "\n",
        "att_op_Phy_exceptions1 = work_dat_notDead.loc[((work_dat_notDead['AttendingPhysician'].notnull()) & (work_dat_notDead[\"OperatingPhysician\"].isnull()) & (work_dat_notDead[\"OtherPhysician\"].notnull()) ),\"BeneID\"]\n",
        "\n",
        "for e in att_op_Phy_exceptions1:\n",
        "  work_dat_notDead.loc[((work_dat_notDead['AttendingPhysician'].notnull()) & (work_dat_notDead[\"OperatingPhysician\"].isnull()) & (work_dat_notDead[\"OtherPhysician\"].notnull()) & (work_dat_notDead[\"BeneID\"]==e)),\"OperatingPhysician\"] = work_dat_notDead.loc[((work_dat_notDead['AttendingPhysician'].notnull()) & (work_dat_notDead[\"OperatingPhysician\"].isnull()) & (work_dat_notDead[\"OtherPhysician\"].notnull())  & (work_dat_notDead['BeneID']==e) ),\"AttendingPhysician\"]\n",
        "\n",
        "# last for all the unfilled Other Physicians:\n",
        "att_ot_Phy_exceptions = work_dat_notDead.loc[((work_dat_notDead['AttendingPhysician'].notnull()) & (work_dat_notDead[\"OtherPhysician\"].isnull()) ),\"BeneID\"]\n",
        "\n",
        "for r in att_ot_Phy_exceptions:\n",
        "  work_dat_notDead.loc[((work_dat_notDead['AttendingPhysician'].notnull()) & (work_dat_notDead[\"OtherPhysician\"].isnull()) & (work_dat_notDead[\"BeneID\"]==r)),\"OtherPhysician\"] = work_dat_notDead.loc[((work_dat_notDead['AttendingPhysician'].notnull()) & (work_dat_notDead[\"OtherPhysician\"].isnull())  & (work_dat_notDead['BeneID']==r) ),\"AttendingPhysician\"]\n",
        "\n"
      ],
      "execution_count": 0,
      "outputs": []
    },
    {
      "cell_type": "code",
      "metadata": {
        "id": "q4St_B2Zhtip",
        "colab_type": "code",
        "colab": {}
      },
      "source": [
        "#Converting the Diagnosis Code into int64 for ease of modelling:\n",
        "work_dat_notDead.loc[work_dat_notDead['DiagnosisGroupCode']==\"OTH\",'DiagnosisGroupCode'] = 0\n",
        "work_dat_notDead['DiagnosisGroupCode'] = work_dat_notDead['DiagnosisGroupCode'].astype('int')\n",
        "\n",
        "work_dat_notDead = work_dat_notDead.drop(columns=['ClaimID'])"
      ],
      "execution_count": 0,
      "outputs": []
    },
    {
      "cell_type": "code",
      "metadata": {
        "id": "62IWqxw2oed3",
        "colab_type": "code",
        "colab": {}
      },
      "source": [
        "# Discreetizing the AdmissionDt and Discharge dt of inpatients:\n",
        "adm_dscdt_df = work_inpatient[['BeneID','AdmissionDt','DischargeDt']].copy()\n",
        "\n",
        "work_dat_notDead = pd.merge(left = work_dat_notDead, right = adm_dscdt_df,left_on='BeneID',right_on = 'BeneID',how = 'inner')\n",
        "   #work_dat_notDead = work_dat_notDead.join(adm_dscdt_df,on = 'BeneID', how='inner')\n",
        "\n",
        "work_dat_notDead['AdmissionDt'] = work_dat_notDead['AdmissionDt'].astype('datetime64[ns]')\n",
        "work_dat_notDead['DischargeDt'] = work_dat_notDead['DischargeDt'].astype('datetime64[ns]')\n",
        "\n",
        "work_dat_notDead['Duration_of_stay'] = [math.ceil(rd.days) for rd in (work_dat_notDead['DischargeDt'] - work_dat_notDead['AdmissionDt'])]\n",
        "\n",
        "\n",
        "work_dat_notDead = work_dat_notDead.drop(columns=['AdmissionDt','DischargeDt'])\n"
      ],
      "execution_count": 0,
      "outputs": []
    },
    {
      "cell_type": "code",
      "metadata": {
        "id": "7dhKusU2osxI",
        "colab_type": "code",
        "colab": {}
      },
      "source": [
        "# ClaimAdmitDiagnosisCode column Addition:\n",
        "clmdiagcode_df = work_inpatient[['BeneID','ClmAdmitDiagnosisCode']].copy()\n",
        "\n",
        "clmdiagcode_df.loc[clmdiagcode_df['ClmAdmitDiagnosisCode'].isna(),'ClmAdmitDiagnosisCode'] = 'NO'\n",
        "\n",
        "vals_clmAdmdiag3 = pd.unique(clmdiagcode_df[['ClmAdmitDiagnosisCode']].values.ravel('K'))\n",
        "#np.append(vals_clmdiag1,3343.0)\n",
        "#np.append(vals_clmdiag1,9982.0)\n",
        "\n",
        "\n",
        "codes3, uniques3 = pd.factorize(vals_clmAdmdiag3)\n",
        "\n",
        "ClmAdmDiagCodes3 = {}\n",
        "#uniques1.astype('str')\n",
        "\n",
        "for y in range(0,len(codes3)):\n",
        "  ClmAdmDiagCodes3[uniques3[y]] = codes3[y]\n",
        "\n",
        "clmdiagcode_df['ClmAdmitDiagnosisCode'] = [ClmAdmDiagCodes3[o] for o in clmdiagcode_df['ClmAdmitDiagnosisCode']]\n",
        "\n",
        "work_dat_notDead = pd.merge(left = work_dat_notDead,right = clmdiagcode_df,left_on = 'BeneID',right_on = 'BeneID', how = 'inner')\n",
        "    #work_dat_notDead = work_dat_notDead.join(clmdiagcode_df,on = 'BeneID', how='inner')\n"
      ],
      "execution_count": 0,
      "outputs": []
    },
    {
      "cell_type": "code",
      "metadata": {
        "id": "cV6AGG_TWeU_",
        "colab_type": "code",
        "colab": {}
      },
      "source": [
        "ClmAdmitDiagnosisCode_df = pd.DataFrame.from_dict(ClmAdmDiagCodes3,orient = 'index')\n",
        "\n",
        "ClmAdmitDiagnosisCode_df.to_csv(\"ClmAdmitDiagnosisCodeDict_df.csv\")"
      ],
      "execution_count": 0,
      "outputs": []
    },
    {
      "cell_type": "code",
      "metadata": {
        "id": "ztHafMGuowTl",
        "colab_type": "code",
        "outputId": "6c09f71f-d0e6-4d82-961d-3b85dd6904c6",
        "colab": {
          "base_uri": "https://localhost:8080/",
          "height": 34
        }
      },
      "source": [
        "# Deductible Amt Paid Column:\n",
        "AmtDeductible_df = work_inpatient[['BeneID','DeductibleAmtPaid']].copy()\n",
        "\n",
        "work_dat_notDead = pd.merge(left = work_dat_notDead,right = AmtDeductible_df,left_on = 'BeneID', right_on = 'BeneID',how= 'inner')\n",
        "   #work_dat_notDead = work_dat_notDead.join(clmdiagcode_df,on = 'BeneID', how='inner')\n",
        "work_dat_notDead['DeductibleAmtPaid'].fillna(0.0,inplace =True)\n",
        "\n",
        "work_dat_notDead['DeductibleAmtPaid'].isnull().values.sum()"
      ],
      "execution_count": 0,
      "outputs": [
        {
          "output_type": "execute_result",
          "data": {
            "text/plain": [
              "0"
            ]
          },
          "metadata": {
            "tags": []
          },
          "execution_count": 18
        }
      ]
    },
    {
      "cell_type": "code",
      "metadata": {
        "id": "qetpMqsOo0qE",
        "colab_type": "code",
        "colab": {}
      },
      "source": [
        "# ClmDiagnosisCode_1-10 columns:\n",
        "vals_clmdiag = pd.unique(work_inpatient[['ClmDiagnosisCode_1', 'ClmDiagnosisCode_2','ClmDiagnosisCode_3','ClmDiagnosisCode_4','ClmDiagnosisCode_5','ClmDiagnosisCode_6','ClmDiagnosisCode_7','ClmDiagnosisCode_8','ClmDiagnosisCode_9','ClmDiagnosisCode_10']].values.ravel('K'))\n",
        "np.append(vals_clmdiag,'V6141')\n",
        "np.append(vals_clmdiag,'V5863')\n",
        "\n",
        "transfer_list1 = []\n",
        "\n",
        "for h in vals_clmdiag:\n",
        "  rat1 = \"ClmDiagCode_\"+str(h)\n",
        "  work_inpatient[rat1] = 0\n",
        "   "
      ],
      "execution_count": 0,
      "outputs": []
    },
    {
      "cell_type": "code",
      "metadata": {
        "id": "DHOzjMbP1LY2",
        "colab_type": "code",
        "colab": {}
      },
      "source": [
        "work_inpatient['ClmDiagnosisCode'] = 0\n",
        "work_inpatient['ClmDiagnosisCode'] = work_inpatient['ClmDiagnosisCode'].astype('object')\n",
        "for k in range(0,work_inpatient.shape[0]):\n",
        "  work_inpatient.at[k,'ClmDiagnosisCode'] = pd.Series([work_inpatient.at[k,'ClmDiagnosisCode_1'],work_inpatient.at[k,'ClmDiagnosisCode_2'],work_inpatient.at[k,'ClmDiagnosisCode_3'],work_inpatient.at[k,'ClmDiagnosisCode_4'],work_inpatient.at[k,'ClmDiagnosisCode_5'],work_inpatient.at[k,'ClmDiagnosisCode_6'],work_inpatient.at[k,'ClmDiagnosisCode_7'],work_inpatient.at[k,'ClmDiagnosisCode_8'],work_inpatient.at[k,'ClmDiagnosisCode_9'],work_inpatient.at[k,'ClmDiagnosisCode_10']])\n",
        "  work_inpatient.at[k,'ClmDiagnosisCode'] = set(work_inpatient.at[k,'ClmDiagnosisCode'])\n",
        "\n",
        "\n",
        "for l in range(0,work_inpatient.shape[0]):\n",
        "  lt = list(work_inpatient.at[l,'ClmDiagnosisCode'])\n",
        "  for t in lt:\n",
        "    col1 = \"ClmDiagCode_\"+str(t)\n",
        "    work_inpatient.at[l,col1] = 1   \n",
        "\n",
        "freqDiagCodes = []\n",
        "\n",
        "for st in work_inpatient['ClmDiagnosisCode']:\n",
        "  for te in list(st):\n",
        "    freqDiagCodes.append(te)\n",
        "\n",
        "from collections import Counter\n",
        "c = Counter(freqDiagCodes)\n",
        "\n",
        "requiredList = c.most_common(25)\n",
        "\n",
        "#transfer_list1.append(list(set.intersection(*map(set, list(work_inpatient['ClmDiagnosisCode'])))))\n",
        "\n",
        "work_inpatient = work_inpatient.drop(columns=['ClmDiagnosisCode'])\n",
        "work_dat_notDead_large = work_dat_notDead.copy() \n",
        "\n"
      ],
      "execution_count": 0,
      "outputs": []
    },
    {
      "cell_type": "code",
      "metadata": {
        "id": "5FEZGeKy5hWm",
        "colab_type": "code",
        "colab": {}
      },
      "source": [
        "best_diagCodes = [m[0] for m in requiredList]\n",
        "transfer_list1 = best_diagCodes.copy() \n",
        "\n",
        "transfer_list3 = [\"ClmDiagCode_\"+ str(t) for t in transfer_list1 if str(t)!='nan']\n",
        "transfer_list3.append('BeneID')\n"
      ],
      "execution_count": 0,
      "outputs": []
    },
    {
      "cell_type": "code",
      "metadata": {
        "id": "icOn2vpzQeBx",
        "colab_type": "code",
        "colab": {}
      },
      "source": [
        "work_inpatient.to_csv(\"work_inpatient.csv\")\n",
        "work_dat_notDead_large.to_csv(\"work_dat_notDead_large.csv\")"
      ],
      "execution_count": 0,
      "outputs": []
    },
    {
      "cell_type": "code",
      "metadata": {
        "id": "-4vpmoAZUJbd",
        "colab_type": "code",
        "colab": {}
      },
      "source": [
        "pd.Series(transfer_list3).to_csv(\"transfer_list1.csv\")"
      ],
      "execution_count": 0,
      "outputs": []
    },
    {
      "cell_type": "code",
      "metadata": {
        "id": "Jc4LCBWWczt0",
        "colab_type": "code",
        "outputId": "041a1f95-822a-4479-cab8-4c9671186e19",
        "colab": {
          "base_uri": "https://localhost:8080/",
          "height": 71
        }
      },
      "source": [
        "work_inpatient = pd.read_csv(\"work_inpatient.csv\")\n",
        "ClmAdmitDiagnosisDict_df =  pd.read_csv(\"ClmAdmitDiagnosisCodeDict_df.csv\")\n",
        "transfer_list3 = pd.read_csv('transfer_list1.csv')\n",
        "work_dat_notDead_large = pd.read_csv('work_dat_notDead_large.csv')"
      ],
      "execution_count": 0,
      "outputs": [
        {
          "output_type": "stream",
          "text": [
            "/usr/local/lib/python3.6/dist-packages/IPython/core/interactiveshell.py:2718: DtypeWarning: Columns (11,14,15,24) have mixed types.Specify dtype option on import or set low_memory=False.\n",
            "  interactivity=interactivity, compiler=compiler, result=result)\n"
          ],
          "name": "stderr"
        }
      ]
    },
    {
      "cell_type": "code",
      "metadata": {
        "id": "z53qbEog7FpT",
        "colab_type": "code",
        "colab": {}
      },
      "source": [
        "#work_inpatient = pd.read_csv('Train_Inpatientdata-1542865627584.csv')"
      ],
      "execution_count": 0,
      "outputs": []
    },
    {
      "cell_type": "code",
      "metadata": {
        "id": "qiBaCqLGslhm",
        "colab_type": "code",
        "colab": {}
      },
      "source": [
        "# Merging of the diagCodes and the main training data\n",
        "diagcodesclm_df = work_inpatient[transfer_list3].copy()\n",
        "work_dat_notDead_large = pd.merge(left = work_dat_notDead_large , right = diagcodesclm_df,left_on=\"BeneID\",right_on=\"BeneID\",how = 'inner')"
      ],
      "execution_count": 0,
      "outputs": []
    },
    {
      "cell_type": "code",
      "metadata": {
        "id": "h467WrrDvXnd",
        "colab_type": "code",
        "colab": {}
      },
      "source": [
        "work_dat_notDead_large.to_csv(\"work_dat_notDead_large.csv\")"
      ],
      "execution_count": 0,
      "outputs": []
    },
    {
      "cell_type": "code",
      "metadata": {
        "id": "9P1kUC2mSRyi",
        "colab_type": "code",
        "colab": {}
      },
      "source": [
        "# ClmProcedureCode_1-6 columns:\n",
        "work_inpatient.loc[work_inpatient['ClmProcedureCode_1'].isna(),'ClmProcedureCode_1'] = 0\n",
        "work_inpatient.loc[work_inpatient['ClmProcedureCode_2'].isna(),'ClmProcedureCode_2'] = 0\n",
        "work_inpatient.loc[work_inpatient['ClmProcedureCode_3'].isna(),'ClmProcedureCode_3'] = 0\n",
        "work_inpatient.loc[work_inpatient['ClmProcedureCode_4'].isna(),'ClmProcedureCode_4'] = 0\n",
        "work_inpatient.loc[work_inpatient['ClmProcedureCode_5'].isna(),'ClmProcedureCode_5'] = 0\n",
        "work_inpatient.loc[work_inpatient['ClmProcedureCode_6'].isna(),'ClmProcedureCode_6'] = 0\n",
        "clmDiagCodes_df1 = work_inpatient[['BeneID','ClmProcedureCode_1', 'ClmProcedureCode_2','ClmProcedureCode_3','ClmProcedureCode_4','ClmProcedureCode_5','ClmProcedureCode_6']].copy()\n",
        "work_dat_notDead_large = pd.merge(left = work_dat_notDead_large,right = clmDiagCodes_df1,left_on= 'BeneID', right_on='BeneID', how = 'inner') "
      ],
      "execution_count": 0,
      "outputs": []
    },
    {
      "cell_type": "code",
      "metadata": {
        "id": "EwQf45slEyqt",
        "colab_type": "code",
        "colab": {}
      },
      "source": [
        ""
      ],
      "execution_count": 0,
      "outputs": []
    },
    {
      "cell_type": "code",
      "metadata": {
        "id": "BXJ9lI9rbvNE",
        "colab_type": "code",
        "colab": {}
      },
      "source": [
        "# Discreetizing the Attending Physicians by LabelEncoding for machine learning:\n",
        "\n",
        "work_dat_notDead_large.loc[work_dat_notDead_large['AttendingPhysician'].isna(),'AttendingPhysician'] = 'NO'\n",
        "work_dat_notDead_large.loc[work_dat_notDead_large['OperatingPhysician'].isna(),'AttendingPhysician'] = 'NO'\n",
        "work_dat_notDead_large.loc[work_dat_notDead_large['OtherPhysician'].isna(),'AttendingPhysician'] = 'NO'\n",
        "\n",
        "\n",
        "vals_clmdiag1 = pd.unique(work_dat_notDead_large[['AttendingPhysician', 'OperatingPhysician','OtherPhysician']].values.ravel('K'))\n",
        "#np.append(vals_clmdiag1,3343.0)\n",
        "#np.append(vals_clmdiag1,9982.0)"
      ],
      "execution_count": 0,
      "outputs": []
    },
    {
      "cell_type": "code",
      "metadata": {
        "id": "Q8eHLfuJ7AAb",
        "colab_type": "code",
        "colab": {}
      },
      "source": [
        "codes1, uniques1 = pd.factorize(vals_clmdiag1)\n",
        "\n",
        "ClmDiagCodes1 = {}\n",
        "#uniques1.astype('str')\n",
        "\n",
        "for y in range(0,len(codes1)):\n",
        "  ClmDiagCodes1[uniques1[y]] = codes1[y]\n",
        "\n",
        "work_dat_notDead_large['AttendingPhysician'] = [ClmDiagCodes1[o] for o in work_dat_notDead_large['AttendingPhysician']]\n",
        "work_dat_notDead_large['OperatingPhysician'] = [ClmDiagCodes1[o] for o in work_dat_notDead_large['OperatingPhysician']]\n",
        "work_dat_notDead_large['OtherPhysician'] = [ClmDiagCodes1[o] for o in work_dat_notDead_large['OtherPhysician']]\n",
        "\n",
        "Physician_dict_df = pd.DataFrame.from_dict(ClmDiagCodes1,orient = 'index')\n",
        "\n",
        "Physician_dict_df.to_csv(\"Physician_dict_df.csv\")\n",
        "\n"
      ],
      "execution_count": 0,
      "outputs": []
    },
    {
      "cell_type": "code",
      "metadata": {
        "id": "CjfucH2cik0M",
        "colab_type": "code",
        "colab": {}
      },
      "source": [
        "# Discreetizing the Provider as being object it is causing problem in model construction:\n",
        "\n",
        "work_dat_notDead_large.loc[work_dat_notDead_large['Provider'].isna(),'Provider'] = 'NO'\n",
        "\n",
        "vals_clmdiag2 = pd.unique(work_dat_notDead_large[['Provider']].values.ravel('K'))\n",
        "#np.append(vals_clmdiag1,3343.0)\n",
        "#np.append(vals_clmdiag1,9982.0)\n"
      ],
      "execution_count": 0,
      "outputs": []
    },
    {
      "cell_type": "code",
      "metadata": {
        "id": "pF4ds4lWoLEg",
        "colab_type": "code",
        "colab": {}
      },
      "source": [
        "codes2, uniques2 = pd.factorize(vals_clmdiag2)\n",
        "\n",
        "ClmDiagCodes2 = {}\n",
        "#uniques1.astype('str')\n",
        "\n",
        "for y in range(0,len(codes2)):\n",
        "  ClmDiagCodes2[uniques2[y]] = codes2[y]\n",
        "\n",
        "work_dat_notDead_large['Provider'] = [ClmDiagCodes2[o] for o in work_dat_notDead_large['Provider']]\n",
        "\n",
        "Provider_dict_df = pd.DataFrame.from_dict(ClmDiagCodes2,orient = 'index')\n",
        "\n",
        "Provider_dict_df.to_csv(\"Provider_dict_df.csv\")\n",
        "\n"
      ],
      "execution_count": 0,
      "outputs": []
    },
    {
      "cell_type": "code",
      "metadata": {
        "id": "Xr6-KSdNEcGD",
        "colab_type": "code",
        "colab": {}
      },
      "source": [
        "work_dat_notDead_large.to_csv(\"work_dat_notDead_large.csv\")"
      ],
      "execution_count": 0,
      "outputs": []
    },
    {
      "cell_type": "code",
      "metadata": {
        "id": "nWtef4nJQ8sK",
        "colab_type": "code",
        "colab": {}
      },
      "source": [
        "output_tag_df = pd.read_csv(\"Train-1542865627584.csv\")\n",
        "\n",
        "# Discreetization of the Potential Fraud:\n",
        "output_tag_df.loc[output_tag_df['PotentialFraud']=='Yes','PotentialFraud'] = 1\n",
        "output_tag_df.loc[output_tag_df['PotentialFraud']=='No','PotentialFraud'] = 0\n",
        "\n",
        "output_tag_df['PotentialFraud'] = output_tag_df['PotentialFraud'].astype('int')\n"
      ],
      "execution_count": 0,
      "outputs": []
    },
    {
      "cell_type": "code",
      "metadata": {
        "id": "tmLgmPb4UZhr",
        "colab_type": "code",
        "colab": {}
      },
      "source": [
        "# Discreetization of the Provider for merging:\n",
        "key_prod = []\n",
        "val_prod = []\n",
        "\n",
        "for nor_val, item1 in ClmDiagCodes2.items():\n",
        "  key_prod.append(nor_val)\n",
        "  val_prod.append(item1)\n",
        "\n",
        "work_dat_notDead_large['Provider'] = work_dat_notDead_large['Provider'].astype('str')\n",
        "\n",
        "for tw in range(0,len(val_prod)):\n",
        "  val_prod[tw] = str(val_prod[tw])\n",
        "\n",
        "\n",
        "for fg in range(0,work_dat_notDead_large.shape[0]):\n",
        "  ind1 = val_prod.index(work_dat_notDead_large.at[fg,'Provider'])\n",
        "  work_dat_notDead_large.at[fg,'Provider'] = key_prod[ind1]\n",
        "\n",
        "  \n",
        "work_dat_notDead_large['Provider'] = work_dat_notDead_large['Provider'].astype('object')  "
      ],
      "execution_count": 0,
      "outputs": []
    },
    {
      "cell_type": "code",
      "metadata": {
        "id": "cRNBRgpQcqgW",
        "colab_type": "code",
        "colab": {}
      },
      "source": [
        "work_dat_notDead_large = pd.merge(left = work_dat_notDead_large,right=output_tag_df, left_on='Provider', right_on='Provider', how = 'inner')"
      ],
      "execution_count": 0,
      "outputs": []
    },
    {
      "cell_type": "code",
      "metadata": {
        "id": "_ECT-mZCVBAd",
        "colab_type": "code",
        "colab": {}
      },
      "source": [
        "# Rediscreetizing the Provider:\n",
        "\n",
        "vals_clmdiag4 = pd.unique(work_dat_notDead_large[['Provider']].values.ravel('K'))\n",
        "#np.append(vals_clmdiag1,3343.0)\n",
        "#np.append(vals_clmdiag1,9982.0)\n",
        "\n",
        "codes4, uniques4 = pd.factorize(vals_clmdiag4)\n",
        "\n",
        "ClmDiagCodes4 = {}\n",
        "#uniques1.astype('str')\n",
        "\n",
        "for y in range(0,len(codes4)):\n",
        "  ClmDiagCodes4[uniques4[y]] = codes4[y]\n",
        "\n",
        "work_dat_notDead_large['Provider'] = [ClmDiagCodes4[o] for o in work_dat_notDead_large['Provider']]\n",
        "\n",
        "Provider_dict_df = pd.DataFrame.from_dict(ClmDiagCodes4,orient = 'index')\n",
        "\n",
        "Provider_dict_df.to_csv(\"Provider_dict_df.csv\")\n"
      ],
      "execution_count": 0,
      "outputs": []
    },
    {
      "cell_type": "code",
      "metadata": {
        "id": "eVyCdfJ7prlW",
        "colab_type": "code",
        "colab": {}
      },
      "source": [
        "work_dat_notDead_large.to_csv(\"work_dat_notDead_large.csv\")"
      ],
      "execution_count": 0,
      "outputs": []
    },
    {
      "cell_type": "code",
      "metadata": {
        "id": "e91bWYOfqcZf",
        "colab_type": "code",
        "outputId": "0b2398db-0d97-4da4-b384-400883f6b5c5",
        "colab": {
          "base_uri": "https://localhost:8080/",
          "height": 221
        }
      },
      "source": [
        "work_dat_notDead_large.dtypes"
      ],
      "execution_count": 0,
      "outputs": [
        {
          "output_type": "execute_result",
          "data": {
            "text/plain": [
              "BeneID                    object\n",
              "Gender                     int64\n",
              "Race                       int64\n",
              "RenalDiseaseIndicator      int64\n",
              "State                      int64\n",
              "                          ...   \n",
              "ClmProcedureCode_3       float64\n",
              "ClmProcedureCode_4       float64\n",
              "ClmProcedureCode_5       float64\n",
              "ClmProcedureCode_6       float64\n",
              "PotentialFraud             int64\n",
              "Length: 62, dtype: object"
            ]
          },
          "metadata": {
            "tags": []
          },
          "execution_count": 43
        }
      ]
    },
    {
      "cell_type": "code",
      "metadata": {
        "id": "arztRVDb642M",
        "colab_type": "code",
        "outputId": "0047441e-54aa-467e-f270-f8eee1041619",
        "colab": {
          "base_uri": "https://localhost:8080/",
          "height": 68
        }
      },
      "source": [
        "# To find whether data is imbalanced:\n",
        "work_dat_notDead_large['PotentialFraud'].value_counts()"
      ],
      "execution_count": 0,
      "outputs": [
        {
          "output_type": "execute_result",
          "data": {
            "text/plain": [
              "1    3839343\n",
              "0    1913967\n",
              "Name: PotentialFraud, dtype: int64"
            ]
          },
          "metadata": {
            "tags": []
          },
          "execution_count": 47
        }
      ]
    },
    {
      "cell_type": "code",
      "metadata": {
        "id": "vjPm5vGC9y52",
        "colab_type": "code",
        "outputId": "273cdaab-33ff-47e4-ecca-4c2a23150815",
        "colab": {
          "base_uri": "https://localhost:8080/",
          "height": 136
        }
      },
      "source": [
        "# removing the connectors or the index as they are not nessesary for the models\n",
        "work_dat_notDead_large = work_dat_notDead_large.drop(columns=['BeneID'])\n"
      ],
      "execution_count": 0,
      "outputs": [
        {
          "output_type": "execute_result",
          "data": {
            "text/plain": [
              "array([[-1.,  0., -1., ...,  0.,  0.,  0.],\n",
              "       [-1.,  0., -1., ...,  0.,  0.,  0.],\n",
              "       [-1.,  0., -1., ...,  0.,  0.,  0.],\n",
              "       ...,\n",
              "       [ 0.,  0., -1., ...,  0.,  0., -1.],\n",
              "       [ 0.,  0., -1., ...,  0.,  0., -1.],\n",
              "       [ 0.,  0., -1., ...,  0.,  0., -1.]])"
            ]
          },
          "metadata": {
            "tags": []
          },
          "execution_count": 49
        }
      ]
    },
    {
      "cell_type": "code",
      "metadata": {
        "id": "powAyMhfbS2y",
        "colab_type": "code",
        "colab": {}
      },
      "source": [
        "# Heatmap between all the columns of the data:\n",
        "import seaborn as sns\n",
        "sns.pairplot(work_dat_notDead_large,hue='class',palette='Dark2') "
      ],
      "execution_count": 0,
      "outputs": []
    },
    {
      "cell_type": "code",
      "metadata": {
        "id": "QR_dkObNbdDj",
        "colab_type": "code",
        "colab": {}
      },
      "source": [
        ""
      ],
      "execution_count": 0,
      "outputs": []
    },
    {
      "cell_type": "code",
      "metadata": {
        "id": "wBDVOEThfkr0",
        "colab_type": "code",
        "colab": {}
      },
      "source": [
        "work_dat_notDead_large = pd.read_csv(\"work_dat_notDead_large-Final model specific.csv\")\n",
        "\n",
        "\n",
        "work_dat_notDead_large_backup = work_dat_notDead_large.copy()\n",
        "\n",
        "work_dat_notDead_large = work_dat_notDead_large.loc[work_dat_notDead_large['InscClaimAmtReimbursed']>5000,:].copy()\n"
      ],
      "execution_count": 0,
      "outputs": []
    },
    {
      "cell_type": "code",
      "metadata": {
        "id": "1lZbQeNxw8bB",
        "colab_type": "code",
        "colab": {}
      },
      "source": [
        "# Applying models\n",
        "from sklearn.experimental import enable_iterative_imputer\n",
        "from sklearn.linear_model import BayesianRidge\n",
        "from sklearn.ensemble import RandomForestRegressor\n",
        "import lightgbm as lgbm\n",
        "from sklearn.preprocessing import RobustScaler  # Here we are applying the RobustScaler to minimize variance and outliers in the data and make them more standard\n",
        "from sklearn import linear_model\n",
        "from sklearn.model_selection import GridSearchCV\n",
        "\n",
        "#work_dat_notDead_large = work_dat_notDead_large.drop(columns=['BeneID'])\n",
        "\n",
        "ClassFraud_y = work_dat_notDead_large['PotentialFraud'].copy()\n",
        "ClassFraud_x = work_dat_notDead_large[work_dat_notDead_large.columns.difference(['PotentialFraud'])]\n",
        "\n",
        "Robust_scaler_X = RobustScaler()\n",
        "\n",
        "Robust_scaler_X.fit(ClassFraud_x)\n",
        "\n",
        "ClassFraud_x_scaled = Robust_scaler_X.transform(ClassFraud_x)\n",
        "\n",
        "# save the scaler\n",
        "pickle.dump(Robust_scaler_X, open('Robust_scaler.pkl', 'wb'))\n",
        "\n",
        "X_train, X_val, y_train, y_val = train_test_split(ClassFraud_x_scaled, ClassFraud_y, test_size=0.33)\n",
        "\n",
        "# Scaling data by using preprocessing tools for a better results:\n",
        "\n",
        "######1>> Fisher linear model:\n",
        "\n",
        "#model = LogisticRegression(solver='lbfgs', multi_class='multinomial')\n",
        "#model.fit(X_train, y_train)\n",
        "\n",
        "\n",
        "#attphy_x_labelcode,label_x = pd.factorize(attphy_x)\n",
        "#X_test_labelcode = pd.factorize(X_test)\n",
        "#attphy_y_labelcode,label_y = pd.factorize(attphy_y)\n",
        "#y_test_labelcode = pd.factorize(y_test)\n",
        "\n"
      ],
      "execution_count": 0,
      "outputs": []
    },
    {
      "cell_type": "code",
      "metadata": {
        "id": "plojB4GEHenf",
        "colab_type": "code",
        "outputId": "5e704b0b-7384-411c-af27-ecf9da662607",
        "colab": {
          "base_uri": "https://localhost:8080/",
          "height": 68
        }
      },
      "source": [
        "## 2>> Logistic regression\n",
        "model_lr = linear_model.LogisticRegression()\n",
        "param1 = {}\n",
        "param1['penalty'] = ['l1','l2']\n",
        "param1['C'] = np.logspace(-5, 5, 20)\n",
        "param1['solver'] : ['sag','newton-cg','slbfgs']\n",
        "param1['verbose'] = [1.0,0.5,2.0]\n",
        "param1['max_iter'] = [800,1000]\n",
        "\n",
        "# Create grid search object\n",
        "clf = GridSearchCV(model_lr, param_grid=param1, cv = 3, verbose=True,scoring='roc_auc',n_jobs=-1)\n",
        "\n",
        "best_model = clf.fit(X_train, y_train)\n",
        "\n",
        "best_model.predict(X_val)\n",
        "\n",
        "best_model.scoring"
      ],
      "execution_count": 0,
      "outputs": [
        {
          "output_type": "stream",
          "text": [
            "Fitting 3 folds for each of 240 candidates, totalling 720 fits\n"
          ],
          "name": "stdout"
        },
        {
          "output_type": "stream",
          "text": [
            "[Parallel(n_jobs=-1)]: Using backend LokyBackend with 4 concurrent workers.\n",
            "[Parallel(n_jobs=-1)]: Done  42 tasks      | elapsed: 35.0min\n"
          ],
          "name": "stderr"
        }
      ]
    },
    {
      "cell_type": "code",
      "metadata": {
        "id": "NKUu88Nsa7Z-",
        "colab_type": "code",
        "colab": {}
      },
      "source": [
        "import pickle\n",
        "# save the model to disk\n",
        "filename = 'ML_Final_LogitR_model.sav'\n",
        "pickle.dump(best_model, open(filename, 'wb'))\n",
        " \n",
        "# some time later...\n",
        " \n",
        "# load the model from disk\n",
        "loaded_model_LR = pickle.load(open(filename, 'rb'))\n",
        "#result = loaded_model.score(X_test, Y_test)\n",
        "#print(result)"
      ],
      "execution_count": 0,
      "outputs": []
    },
    {
      "cell_type": "code",
      "metadata": {
        "id": "jk8efOdI-iVq",
        "colab_type": "code",
        "colab": {}
      },
      "source": [
        "loaded_model_LR = pickle.load(open(\"ML_Final_LogitR_model.sav\", 'rb'))\n",
        "\n",
        "y_pred = loaded_model.predict(X_val)"
      ],
      "execution_count": 0,
      "outputs": []
    },
    {
      "cell_type": "code",
      "metadata": {
        "id": "MGEfnba5lZGK",
        "colab_type": "code",
        "outputId": "337812a6-4bfb-4204-8423-d914b9fa4f94",
        "colab": {
          "base_uri": "https://localhost:8080/",
          "height": 360
        }
      },
      "source": [
        "from sklearn.metrics import f1_score\n",
        "\n",
        "f1_score(y_val,y_pred,avarag)"
      ],
      "execution_count": 0,
      "outputs": [
        {
          "output_type": "error",
          "ename": "ValueError",
          "evalue": "ignored",
          "traceback": [
            "\u001b[0;31m---------------------------------------------------------------------------\u001b[0m",
            "\u001b[0;31mValueError\u001b[0m                                Traceback (most recent call last)",
            "\u001b[0;32m<ipython-input-12-06dda28b6863>\u001b[0m in \u001b[0;36m<module>\u001b[0;34m()\u001b[0m\n\u001b[1;32m      1\u001b[0m \u001b[0;32mfrom\u001b[0m \u001b[0msklearn\u001b[0m\u001b[0;34m.\u001b[0m\u001b[0mmetrics\u001b[0m \u001b[0;32mimport\u001b[0m \u001b[0mf1_score\u001b[0m\u001b[0;34m\u001b[0m\u001b[0;34m\u001b[0m\u001b[0m\n\u001b[1;32m      2\u001b[0m \u001b[0;34m\u001b[0m\u001b[0m\n\u001b[0;32m----> 3\u001b[0;31m \u001b[0mf1_score\u001b[0m\u001b[0;34m(\u001b[0m\u001b[0my_val\u001b[0m\u001b[0;34m,\u001b[0m\u001b[0my_pred\u001b[0m\u001b[0;34m)\u001b[0m\u001b[0;34m\u001b[0m\u001b[0;34m\u001b[0m\u001b[0m\n\u001b[0m",
            "\u001b[0;32m/usr/local/lib/python3.6/dist-packages/sklearn/metrics/_classification.py\u001b[0m in \u001b[0;36mf1_score\u001b[0;34m(y_true, y_pred, labels, pos_label, average, sample_weight, zero_division)\u001b[0m\n\u001b[1;32m   1097\u001b[0m                        \u001b[0mpos_label\u001b[0m\u001b[0;34m=\u001b[0m\u001b[0mpos_label\u001b[0m\u001b[0;34m,\u001b[0m \u001b[0maverage\u001b[0m\u001b[0;34m=\u001b[0m\u001b[0maverage\u001b[0m\u001b[0;34m,\u001b[0m\u001b[0;34m\u001b[0m\u001b[0;34m\u001b[0m\u001b[0m\n\u001b[1;32m   1098\u001b[0m                        \u001b[0msample_weight\u001b[0m\u001b[0;34m=\u001b[0m\u001b[0msample_weight\u001b[0m\u001b[0;34m,\u001b[0m\u001b[0;34m\u001b[0m\u001b[0;34m\u001b[0m\u001b[0m\n\u001b[0;32m-> 1099\u001b[0;31m                        zero_division=zero_division)\n\u001b[0m\u001b[1;32m   1100\u001b[0m \u001b[0;34m\u001b[0m\u001b[0m\n\u001b[1;32m   1101\u001b[0m \u001b[0;34m\u001b[0m\u001b[0m\n",
            "\u001b[0;32m/usr/local/lib/python3.6/dist-packages/sklearn/metrics/_classification.py\u001b[0m in \u001b[0;36mfbeta_score\u001b[0;34m(y_true, y_pred, beta, labels, pos_label, average, sample_weight, zero_division)\u001b[0m\n\u001b[1;32m   1224\u001b[0m                                                  \u001b[0mwarn_for\u001b[0m\u001b[0;34m=\u001b[0m\u001b[0;34m(\u001b[0m\u001b[0;34m'f-score'\u001b[0m\u001b[0;34m,\u001b[0m\u001b[0;34m)\u001b[0m\u001b[0;34m,\u001b[0m\u001b[0;34m\u001b[0m\u001b[0;34m\u001b[0m\u001b[0m\n\u001b[1;32m   1225\u001b[0m                                                  \u001b[0msample_weight\u001b[0m\u001b[0;34m=\u001b[0m\u001b[0msample_weight\u001b[0m\u001b[0;34m,\u001b[0m\u001b[0;34m\u001b[0m\u001b[0;34m\u001b[0m\u001b[0m\n\u001b[0;32m-> 1226\u001b[0;31m                                                  zero_division=zero_division)\n\u001b[0m\u001b[1;32m   1227\u001b[0m     \u001b[0;32mreturn\u001b[0m \u001b[0mf\u001b[0m\u001b[0;34m\u001b[0m\u001b[0;34m\u001b[0m\u001b[0m\n\u001b[1;32m   1228\u001b[0m \u001b[0;34m\u001b[0m\u001b[0m\n",
            "\u001b[0;32m/usr/local/lib/python3.6/dist-packages/sklearn/metrics/_classification.py\u001b[0m in \u001b[0;36mprecision_recall_fscore_support\u001b[0;34m(y_true, y_pred, beta, labels, pos_label, average, warn_for, sample_weight, zero_division)\u001b[0m\n\u001b[1;32m   1482\u001b[0m         \u001b[0;32mraise\u001b[0m \u001b[0mValueError\u001b[0m\u001b[0;34m(\u001b[0m\u001b[0;34m\"beta should be >=0 in the F-beta score\"\u001b[0m\u001b[0;34m)\u001b[0m\u001b[0;34m\u001b[0m\u001b[0;34m\u001b[0m\u001b[0m\n\u001b[1;32m   1483\u001b[0m     labels = _check_set_wise_labels(y_true, y_pred, average, labels,\n\u001b[0;32m-> 1484\u001b[0;31m                                     pos_label)\n\u001b[0m\u001b[1;32m   1485\u001b[0m \u001b[0;34m\u001b[0m\u001b[0m\n\u001b[1;32m   1486\u001b[0m     \u001b[0;31m# Calculate tp_sum, pred_sum, true_sum ###\u001b[0m\u001b[0;34m\u001b[0m\u001b[0;34m\u001b[0m\u001b[0;34m\u001b[0m\u001b[0m\n",
            "\u001b[0;32m/usr/local/lib/python3.6/dist-packages/sklearn/metrics/_classification.py\u001b[0m in \u001b[0;36m_check_set_wise_labels\u001b[0;34m(y_true, y_pred, average, labels, pos_label)\u001b[0m\n\u001b[1;32m   1306\u001b[0m                 \u001b[0;32mif\u001b[0m \u001b[0mlen\u001b[0m\u001b[0;34m(\u001b[0m\u001b[0mpresent_labels\u001b[0m\u001b[0;34m)\u001b[0m \u001b[0;34m>=\u001b[0m \u001b[0;36m2\u001b[0m\u001b[0;34m:\u001b[0m\u001b[0;34m\u001b[0m\u001b[0;34m\u001b[0m\u001b[0m\n\u001b[1;32m   1307\u001b[0m                     raise ValueError(\"pos_label=%r is not a valid label: \"\n\u001b[0;32m-> 1308\u001b[0;31m                                      \"%r\" % (pos_label, present_labels))\n\u001b[0m\u001b[1;32m   1309\u001b[0m             \u001b[0mlabels\u001b[0m \u001b[0;34m=\u001b[0m \u001b[0;34m[\u001b[0m\u001b[0mpos_label\u001b[0m\u001b[0;34m]\u001b[0m\u001b[0;34m\u001b[0m\u001b[0;34m\u001b[0m\u001b[0m\n\u001b[1;32m   1310\u001b[0m         \u001b[0;32melse\u001b[0m\u001b[0;34m:\u001b[0m\u001b[0;34m\u001b[0m\u001b[0;34m\u001b[0m\u001b[0m\n",
            "\u001b[0;31mValueError\u001b[0m: pos_label=1 is not a valid label: array([-1.,  0.])"
          ]
        }
      ]
    },
    {
      "cell_type": "code",
      "metadata": {
        "id": "D9SqeRUtgkCC",
        "colab_type": "code",
        "outputId": "a3747269-91b9-4760-b421-9823ff057a75",
        "colab": {
          "base_uri": "https://localhost:8080/",
          "height": 921
        }
      },
      "source": [
        "## 2>> Support Vxector Machine\n",
        "\n",
        "from sklearn.svm import SVC\n",
        "from sklearn.metrics import classification_report, confusion_matrix\n",
        "\n",
        "sdca = SVC()\n",
        "\n",
        "param1 = {}\n",
        "param1['kernel'] = ['linear','rbf','polynomial']\n",
        "param1['penalty'] = ['l1','l2']\n",
        "param1['gamma'] = ['auto']\n",
        "param1['C'] = [[0.1,1,10,100]\n",
        "param1['decision_function_shape'] : ['ovo', 'ovr']\n",
        "\n",
        "# Create grid search object\n",
        "clf1 = GridSearchCV(sdca, param_grid=param1, cv = 10, verbose=True,scoring='roc_auc',n_jobs=-1)\n",
        "\n",
        "best_model1 = clf1.fit(X_train, y_train)\n",
        "\n",
        "best_model1.predict(X_val)"
      ],
      "execution_count": 0,
      "outputs": [
        {
          "output_type": "stream",
          "text": [
            "Fitting 10 folds for each of 360 candidates, totalling 3600 fits\n"
          ],
          "name": "stdout"
        },
        {
          "output_type": "stream",
          "text": [
            "[Parallel(n_jobs=-1)]: Using backend LokyBackend with 4 concurrent workers.\n"
          ],
          "name": "stderr"
        },
        {
          "output_type": "error",
          "ename": "ValueError",
          "evalue": "ignored",
          "traceback": [
            "\u001b[0;31m---------------------------------------------------------------------------\u001b[0m",
            "\u001b[0;31m_RemoteTraceback\u001b[0m                          Traceback (most recent call last)",
            "\u001b[0;31m_RemoteTraceback\u001b[0m: \n\"\"\"\nTraceback (most recent call last):\n  File \"/usr/local/lib/python3.6/dist-packages/joblib/externals/loky/process_executor.py\", line 418, in _process_worker\n    r = call_item()\n  File \"/usr/local/lib/python3.6/dist-packages/joblib/externals/loky/process_executor.py\", line 272, in __call__\n    return self.fn(*self.args, **self.kwargs)\n  File \"/usr/local/lib/python3.6/dist-packages/joblib/_parallel_backends.py\", line 608, in __call__\n    return self.func(*args, **kwargs)\n  File \"/usr/local/lib/python3.6/dist-packages/joblib/parallel.py\", line 256, in __call__\n    for func, args, kwargs in self.items]\n  File \"/usr/local/lib/python3.6/dist-packages/joblib/parallel.py\", line 256, in <listcomp>\n    for func, args, kwargs in self.items]\n  File \"/usr/local/lib/python3.6/dist-packages/sklearn/model_selection/_validation.py\", line 504, in _fit_and_score\n    estimator = estimator.set_params(**cloned_parameters)\n  File \"/usr/local/lib/python3.6/dist-packages/sklearn/base.py\", line 236, in set_params\n    (key, self))\nValueError: Invalid parameter penalty for estimator SVC(C=1.0, break_ties=False, cache_size=200, class_weight=None, coef0=0.0,\n    decision_function_shape='ovr', degree=2, gamma='scale', kernel='linear',\n    max_iter=-1, probability=False, random_state=None, shrinking=True,\n    tol=0.001, verbose=False). Check the list of available parameters with `estimator.get_params().keys()`.\n\"\"\"",
            "\nThe above exception was the direct cause of the following exception:\n",
            "\u001b[0;31mValueError\u001b[0m                                Traceback (most recent call last)",
            "\u001b[0;32m<ipython-input-15-bbf75cdc1cc5>\u001b[0m in \u001b[0;36m<module>\u001b[0;34m()\u001b[0m\n\u001b[1;32m     15\u001b[0m \u001b[0mclf1\u001b[0m \u001b[0;34m=\u001b[0m \u001b[0mGridSearchCV\u001b[0m\u001b[0;34m(\u001b[0m\u001b[0msdca\u001b[0m\u001b[0;34m,\u001b[0m \u001b[0mparam_grid\u001b[0m\u001b[0;34m=\u001b[0m\u001b[0mparam1\u001b[0m\u001b[0;34m,\u001b[0m \u001b[0mcv\u001b[0m \u001b[0;34m=\u001b[0m \u001b[0;36m10\u001b[0m\u001b[0;34m,\u001b[0m \u001b[0mverbose\u001b[0m\u001b[0;34m=\u001b[0m\u001b[0;32mTrue\u001b[0m\u001b[0;34m,\u001b[0m\u001b[0mscoring\u001b[0m\u001b[0;34m=\u001b[0m\u001b[0;34m'roc_auc'\u001b[0m\u001b[0;34m,\u001b[0m\u001b[0mn_jobs\u001b[0m\u001b[0;34m=\u001b[0m\u001b[0;34m-\u001b[0m\u001b[0;36m1\u001b[0m\u001b[0;34m)\u001b[0m\u001b[0;34m\u001b[0m\u001b[0;34m\u001b[0m\u001b[0m\n\u001b[1;32m     16\u001b[0m \u001b[0;34m\u001b[0m\u001b[0m\n\u001b[0;32m---> 17\u001b[0;31m \u001b[0mbest_model1\u001b[0m \u001b[0;34m=\u001b[0m \u001b[0mclf1\u001b[0m\u001b[0;34m.\u001b[0m\u001b[0mfit\u001b[0m\u001b[0;34m(\u001b[0m\u001b[0mX_train\u001b[0m\u001b[0;34m,\u001b[0m \u001b[0my_train\u001b[0m\u001b[0;34m)\u001b[0m\u001b[0;34m\u001b[0m\u001b[0;34m\u001b[0m\u001b[0m\n\u001b[0m\u001b[1;32m     18\u001b[0m \u001b[0;34m\u001b[0m\u001b[0m\n\u001b[1;32m     19\u001b[0m \u001b[0mbest_model1\u001b[0m\u001b[0;34m.\u001b[0m\u001b[0mpredict\u001b[0m\u001b[0;34m(\u001b[0m\u001b[0mX_val\u001b[0m\u001b[0;34m)\u001b[0m\u001b[0;34m\u001b[0m\u001b[0;34m\u001b[0m\u001b[0m\n",
            "\u001b[0;32m/usr/local/lib/python3.6/dist-packages/sklearn/model_selection/_search.py\u001b[0m in \u001b[0;36mfit\u001b[0;34m(self, X, y, groups, **fit_params)\u001b[0m\n\u001b[1;32m    708\u001b[0m                 \u001b[0;32mreturn\u001b[0m \u001b[0mresults\u001b[0m\u001b[0;34m\u001b[0m\u001b[0;34m\u001b[0m\u001b[0m\n\u001b[1;32m    709\u001b[0m \u001b[0;34m\u001b[0m\u001b[0m\n\u001b[0;32m--> 710\u001b[0;31m             \u001b[0mself\u001b[0m\u001b[0;34m.\u001b[0m\u001b[0m_run_search\u001b[0m\u001b[0;34m(\u001b[0m\u001b[0mevaluate_candidates\u001b[0m\u001b[0;34m)\u001b[0m\u001b[0;34m\u001b[0m\u001b[0;34m\u001b[0m\u001b[0m\n\u001b[0m\u001b[1;32m    711\u001b[0m \u001b[0;34m\u001b[0m\u001b[0m\n\u001b[1;32m    712\u001b[0m         \u001b[0;31m# For multi-metric evaluation, store the best_index_, best_params_ and\u001b[0m\u001b[0;34m\u001b[0m\u001b[0;34m\u001b[0m\u001b[0;34m\u001b[0m\u001b[0m\n",
            "\u001b[0;32m/usr/local/lib/python3.6/dist-packages/sklearn/model_selection/_search.py\u001b[0m in \u001b[0;36m_run_search\u001b[0;34m(self, evaluate_candidates)\u001b[0m\n\u001b[1;32m   1149\u001b[0m     \u001b[0;32mdef\u001b[0m \u001b[0m_run_search\u001b[0m\u001b[0;34m(\u001b[0m\u001b[0mself\u001b[0m\u001b[0;34m,\u001b[0m \u001b[0mevaluate_candidates\u001b[0m\u001b[0;34m)\u001b[0m\u001b[0;34m:\u001b[0m\u001b[0;34m\u001b[0m\u001b[0;34m\u001b[0m\u001b[0m\n\u001b[1;32m   1150\u001b[0m         \u001b[0;34m\"\"\"Search all candidates in param_grid\"\"\"\u001b[0m\u001b[0;34m\u001b[0m\u001b[0;34m\u001b[0m\u001b[0m\n\u001b[0;32m-> 1151\u001b[0;31m         \u001b[0mevaluate_candidates\u001b[0m\u001b[0;34m(\u001b[0m\u001b[0mParameterGrid\u001b[0m\u001b[0;34m(\u001b[0m\u001b[0mself\u001b[0m\u001b[0;34m.\u001b[0m\u001b[0mparam_grid\u001b[0m\u001b[0;34m)\u001b[0m\u001b[0;34m)\u001b[0m\u001b[0;34m\u001b[0m\u001b[0;34m\u001b[0m\u001b[0m\n\u001b[0m\u001b[1;32m   1152\u001b[0m \u001b[0;34m\u001b[0m\u001b[0m\n\u001b[1;32m   1153\u001b[0m \u001b[0;34m\u001b[0m\u001b[0m\n",
            "\u001b[0;32m/usr/local/lib/python3.6/dist-packages/sklearn/model_selection/_search.py\u001b[0m in \u001b[0;36mevaluate_candidates\u001b[0;34m(candidate_params)\u001b[0m\n\u001b[1;32m    687\u001b[0m                                \u001b[0;32mfor\u001b[0m \u001b[0mparameters\u001b[0m\u001b[0;34m,\u001b[0m \u001b[0;34m(\u001b[0m\u001b[0mtrain\u001b[0m\u001b[0;34m,\u001b[0m \u001b[0mtest\u001b[0m\u001b[0;34m)\u001b[0m\u001b[0;34m\u001b[0m\u001b[0;34m\u001b[0m\u001b[0m\n\u001b[1;32m    688\u001b[0m                                in product(candidate_params,\n\u001b[0;32m--> 689\u001b[0;31m                                           cv.split(X, y, groups)))\n\u001b[0m\u001b[1;32m    690\u001b[0m \u001b[0;34m\u001b[0m\u001b[0m\n\u001b[1;32m    691\u001b[0m                 \u001b[0;32mif\u001b[0m \u001b[0mlen\u001b[0m\u001b[0;34m(\u001b[0m\u001b[0mout\u001b[0m\u001b[0;34m)\u001b[0m \u001b[0;34m<\u001b[0m \u001b[0;36m1\u001b[0m\u001b[0;34m:\u001b[0m\u001b[0;34m\u001b[0m\u001b[0;34m\u001b[0m\u001b[0m\n",
            "\u001b[0;32m/usr/local/lib/python3.6/dist-packages/joblib/parallel.py\u001b[0m in \u001b[0;36m__call__\u001b[0;34m(self, iterable)\u001b[0m\n\u001b[1;32m   1015\u001b[0m \u001b[0;34m\u001b[0m\u001b[0m\n\u001b[1;32m   1016\u001b[0m             \u001b[0;32mwith\u001b[0m \u001b[0mself\u001b[0m\u001b[0;34m.\u001b[0m\u001b[0m_backend\u001b[0m\u001b[0;34m.\u001b[0m\u001b[0mretrieval_context\u001b[0m\u001b[0;34m(\u001b[0m\u001b[0;34m)\u001b[0m\u001b[0;34m:\u001b[0m\u001b[0;34m\u001b[0m\u001b[0;34m\u001b[0m\u001b[0m\n\u001b[0;32m-> 1017\u001b[0;31m                 \u001b[0mself\u001b[0m\u001b[0;34m.\u001b[0m\u001b[0mretrieve\u001b[0m\u001b[0;34m(\u001b[0m\u001b[0;34m)\u001b[0m\u001b[0;34m\u001b[0m\u001b[0;34m\u001b[0m\u001b[0m\n\u001b[0m\u001b[1;32m   1018\u001b[0m             \u001b[0;31m# Make sure that we get a last message telling us we are done\u001b[0m\u001b[0;34m\u001b[0m\u001b[0;34m\u001b[0m\u001b[0;34m\u001b[0m\u001b[0m\n\u001b[1;32m   1019\u001b[0m             \u001b[0melapsed_time\u001b[0m \u001b[0;34m=\u001b[0m \u001b[0mtime\u001b[0m\u001b[0;34m.\u001b[0m\u001b[0mtime\u001b[0m\u001b[0;34m(\u001b[0m\u001b[0;34m)\u001b[0m \u001b[0;34m-\u001b[0m \u001b[0mself\u001b[0m\u001b[0;34m.\u001b[0m\u001b[0m_start_time\u001b[0m\u001b[0;34m\u001b[0m\u001b[0;34m\u001b[0m\u001b[0m\n",
            "\u001b[0;32m/usr/local/lib/python3.6/dist-packages/joblib/parallel.py\u001b[0m in \u001b[0;36mretrieve\u001b[0;34m(self)\u001b[0m\n\u001b[1;32m    907\u001b[0m             \u001b[0;32mtry\u001b[0m\u001b[0;34m:\u001b[0m\u001b[0;34m\u001b[0m\u001b[0;34m\u001b[0m\u001b[0m\n\u001b[1;32m    908\u001b[0m                 \u001b[0;32mif\u001b[0m \u001b[0mgetattr\u001b[0m\u001b[0;34m(\u001b[0m\u001b[0mself\u001b[0m\u001b[0;34m.\u001b[0m\u001b[0m_backend\u001b[0m\u001b[0;34m,\u001b[0m \u001b[0;34m'supports_timeout'\u001b[0m\u001b[0;34m,\u001b[0m \u001b[0;32mFalse\u001b[0m\u001b[0;34m)\u001b[0m\u001b[0;34m:\u001b[0m\u001b[0;34m\u001b[0m\u001b[0;34m\u001b[0m\u001b[0m\n\u001b[0;32m--> 909\u001b[0;31m                     \u001b[0mself\u001b[0m\u001b[0;34m.\u001b[0m\u001b[0m_output\u001b[0m\u001b[0;34m.\u001b[0m\u001b[0mextend\u001b[0m\u001b[0;34m(\u001b[0m\u001b[0mjob\u001b[0m\u001b[0;34m.\u001b[0m\u001b[0mget\u001b[0m\u001b[0;34m(\u001b[0m\u001b[0mtimeout\u001b[0m\u001b[0;34m=\u001b[0m\u001b[0mself\u001b[0m\u001b[0;34m.\u001b[0m\u001b[0mtimeout\u001b[0m\u001b[0;34m)\u001b[0m\u001b[0;34m)\u001b[0m\u001b[0;34m\u001b[0m\u001b[0;34m\u001b[0m\u001b[0m\n\u001b[0m\u001b[1;32m    910\u001b[0m                 \u001b[0;32melse\u001b[0m\u001b[0;34m:\u001b[0m\u001b[0;34m\u001b[0m\u001b[0;34m\u001b[0m\u001b[0m\n\u001b[1;32m    911\u001b[0m                     \u001b[0mself\u001b[0m\u001b[0;34m.\u001b[0m\u001b[0m_output\u001b[0m\u001b[0;34m.\u001b[0m\u001b[0mextend\u001b[0m\u001b[0;34m(\u001b[0m\u001b[0mjob\u001b[0m\u001b[0;34m.\u001b[0m\u001b[0mget\u001b[0m\u001b[0;34m(\u001b[0m\u001b[0;34m)\u001b[0m\u001b[0;34m)\u001b[0m\u001b[0;34m\u001b[0m\u001b[0;34m\u001b[0m\u001b[0m\n",
            "\u001b[0;32m/usr/local/lib/python3.6/dist-packages/joblib/_parallel_backends.py\u001b[0m in \u001b[0;36mwrap_future_result\u001b[0;34m(future, timeout)\u001b[0m\n\u001b[1;32m    560\u001b[0m         AsyncResults.get from multiprocessing.\"\"\"\n\u001b[1;32m    561\u001b[0m         \u001b[0;32mtry\u001b[0m\u001b[0;34m:\u001b[0m\u001b[0;34m\u001b[0m\u001b[0;34m\u001b[0m\u001b[0m\n\u001b[0;32m--> 562\u001b[0;31m             \u001b[0;32mreturn\u001b[0m \u001b[0mfuture\u001b[0m\u001b[0;34m.\u001b[0m\u001b[0mresult\u001b[0m\u001b[0;34m(\u001b[0m\u001b[0mtimeout\u001b[0m\u001b[0;34m=\u001b[0m\u001b[0mtimeout\u001b[0m\u001b[0;34m)\u001b[0m\u001b[0;34m\u001b[0m\u001b[0;34m\u001b[0m\u001b[0m\n\u001b[0m\u001b[1;32m    563\u001b[0m         \u001b[0;32mexcept\u001b[0m \u001b[0mLokyTimeoutError\u001b[0m\u001b[0;34m:\u001b[0m\u001b[0;34m\u001b[0m\u001b[0;34m\u001b[0m\u001b[0m\n\u001b[1;32m    564\u001b[0m             \u001b[0;32mraise\u001b[0m \u001b[0mTimeoutError\u001b[0m\u001b[0;34m(\u001b[0m\u001b[0;34m)\u001b[0m\u001b[0;34m\u001b[0m\u001b[0;34m\u001b[0m\u001b[0m\n",
            "\u001b[0;32m/usr/lib/python3.6/concurrent/futures/_base.py\u001b[0m in \u001b[0;36mresult\u001b[0;34m(self, timeout)\u001b[0m\n\u001b[1;32m    430\u001b[0m                 \u001b[0;32mraise\u001b[0m \u001b[0mCancelledError\u001b[0m\u001b[0;34m(\u001b[0m\u001b[0;34m)\u001b[0m\u001b[0;34m\u001b[0m\u001b[0;34m\u001b[0m\u001b[0m\n\u001b[1;32m    431\u001b[0m             \u001b[0;32melif\u001b[0m \u001b[0mself\u001b[0m\u001b[0;34m.\u001b[0m\u001b[0m_state\u001b[0m \u001b[0;34m==\u001b[0m \u001b[0mFINISHED\u001b[0m\u001b[0;34m:\u001b[0m\u001b[0;34m\u001b[0m\u001b[0;34m\u001b[0m\u001b[0m\n\u001b[0;32m--> 432\u001b[0;31m                 \u001b[0;32mreturn\u001b[0m \u001b[0mself\u001b[0m\u001b[0;34m.\u001b[0m\u001b[0m__get_result\u001b[0m\u001b[0;34m(\u001b[0m\u001b[0;34m)\u001b[0m\u001b[0;34m\u001b[0m\u001b[0;34m\u001b[0m\u001b[0m\n\u001b[0m\u001b[1;32m    433\u001b[0m             \u001b[0;32melse\u001b[0m\u001b[0;34m:\u001b[0m\u001b[0;34m\u001b[0m\u001b[0;34m\u001b[0m\u001b[0m\n\u001b[1;32m    434\u001b[0m                 \u001b[0;32mraise\u001b[0m \u001b[0mTimeoutError\u001b[0m\u001b[0;34m(\u001b[0m\u001b[0;34m)\u001b[0m\u001b[0;34m\u001b[0m\u001b[0;34m\u001b[0m\u001b[0m\n",
            "\u001b[0;32m/usr/lib/python3.6/concurrent/futures/_base.py\u001b[0m in \u001b[0;36m__get_result\u001b[0;34m(self)\u001b[0m\n\u001b[1;32m    382\u001b[0m     \u001b[0;32mdef\u001b[0m \u001b[0m__get_result\u001b[0m\u001b[0;34m(\u001b[0m\u001b[0mself\u001b[0m\u001b[0;34m)\u001b[0m\u001b[0;34m:\u001b[0m\u001b[0;34m\u001b[0m\u001b[0;34m\u001b[0m\u001b[0m\n\u001b[1;32m    383\u001b[0m         \u001b[0;32mif\u001b[0m \u001b[0mself\u001b[0m\u001b[0;34m.\u001b[0m\u001b[0m_exception\u001b[0m\u001b[0;34m:\u001b[0m\u001b[0;34m\u001b[0m\u001b[0;34m\u001b[0m\u001b[0m\n\u001b[0;32m--> 384\u001b[0;31m             \u001b[0;32mraise\u001b[0m \u001b[0mself\u001b[0m\u001b[0;34m.\u001b[0m\u001b[0m_exception\u001b[0m\u001b[0;34m\u001b[0m\u001b[0;34m\u001b[0m\u001b[0m\n\u001b[0m\u001b[1;32m    385\u001b[0m         \u001b[0;32melse\u001b[0m\u001b[0;34m:\u001b[0m\u001b[0;34m\u001b[0m\u001b[0;34m\u001b[0m\u001b[0m\n\u001b[1;32m    386\u001b[0m             \u001b[0;32mreturn\u001b[0m \u001b[0mself\u001b[0m\u001b[0;34m.\u001b[0m\u001b[0m_result\u001b[0m\u001b[0;34m\u001b[0m\u001b[0;34m\u001b[0m\u001b[0m\n",
            "\u001b[0;31mValueError\u001b[0m: Invalid parameter penalty for estimator SVC(C=1.0, break_ties=False, cache_size=200, class_weight=None, coef0=0.0,\n    decision_function_shape='ovr', degree=2, gamma='scale', kernel='linear',\n    max_iter=-1, probability=False, random_state=None, shrinking=True,\n    tol=0.001, verbose=False). Check the list of available parameters with `estimator.get_params().keys()`."
          ]
        }
      ]
    },
    {
      "cell_type": "code",
      "metadata": {
        "id": "z4a7_Lc-qf4r",
        "colab_type": "code",
        "colab": {}
      },
      "source": [
        "# save the model to disk\n",
        "filename = 'ML_Final_SVM_model.sav'\n",
        "pickle.dump(best_model1, open(filename, 'wb'))"
      ],
      "execution_count": 0,
      "outputs": []
    },
    {
      "cell_type": "code",
      "metadata": {
        "id": "o2JCmSuOqzEc",
        "colab_type": "code",
        "colab": {}
      },
      "source": [
        "# load the model from disk\n",
        "filename = 'ML_Final_SVM_model.sav'\n",
        "loaded_model_SVM = pickle.load(open(filename, 'rb'))\n",
        "#result = loaded_model.score(X_test, Y_test)\n",
        "#print(result)"
      ],
      "execution_count": 0,
      "outputs": []
    },
    {
      "cell_type": "code",
      "metadata": {
        "id": "UWc6LGNd9CNY",
        "colab_type": "code",
        "colab": {}
      },
      "source": [
        "\n",
        "#d_train = lgbm.Dataset(X_train, label=y_train)\n",
        "\n",
        "#params = {}\n",
        "#params['learning_rate'] = 0.003\n",
        "#params['boosting_type'] = 'gbdt'\n",
        "#params['objective'] = 'regression'\n",
        "#params['metric'] = 'l2'\n",
        "#params['num_leaves'] = 31\n",
        "\n",
        "#clf = lgbm.train(params, d_train, 100)\n",
        "\n",
        "#phy_estimator = BayesianRidge()\n",
        "#phy_estimator.fit(X_train_one_hot, y_train)\n",
        "\n",
        "#Phy_y_pred = phy_estimator.predict(X_test_one_hot)\n",
        "\n",
        "#phy_estimator.score(Phy_y_pred,y_test)\n"
      ],
      "execution_count": 0,
      "outputs": []
    },
    {
      "cell_type": "code",
      "metadata": {
        "id": "4lL2Vrwc8j_g",
        "colab_type": "code",
        "colab": {}
      },
      "source": [
        "ter = pd.DataFrame.from_dict(ClmDiagCodes1,orient = 'index')\n",
        "\n",
        "ter.to_csv(\"rer.csv\")\n",
        "\n"
      ],
      "execution_count": 0,
      "outputs": []
    }
  ]
}